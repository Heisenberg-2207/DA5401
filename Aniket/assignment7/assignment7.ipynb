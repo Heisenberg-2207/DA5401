{
 "cells": [
  {
   "cell_type": "markdown",
   "metadata": {},
   "source": [
    "### Imports"
   ]
  },
  {
   "cell_type": "code",
   "execution_count": 10,
   "metadata": {},
   "outputs": [],
   "source": [
    "import numpy as np\n",
    "import pandas as pd\n",
    "import matplotlib.pyplot as plt\n",
    "import seaborn as sns\n",
    "from sklearn.model_selection import train_test_split\n",
    "from sklearn.svm import SVC\n",
    "from sklearn.tree import DecisionTreeClassifier\n",
    "from sklearn.linear_model import LogisticRegression\n",
    "from sklearn.metrics import classification_report, confusion_matrix\n",
    "from sklearn.model_selection import GridSearchCV\n",
    "from sklearn.preprocessing import LabelEncoder\n",
    "from imblearn.over_sampling import RandomOverSampler\n",
    "from imblearn.under_sampling import RandomUnderSampler\n",
    "from imblearn.combine import SMOTEENN\n",
    "from imblearn.ensemble import BalancedRandomForestClassifier, EasyEnsembleClassifier\n",
    "from sklearn.utils.class_weight import compute_class_weight"
   ]
  },
  {
   "cell_type": "markdown",
   "metadata": {},
   "source": [
    "### Pre-Processing"
   ]
  },
  {
   "cell_type": "code",
   "execution_count": 11,
   "metadata": {},
   "outputs": [
    {
     "data": {
      "text/html": [
       "<div>\n",
       "<style scoped>\n",
       "    .dataframe tbody tr th:only-of-type {\n",
       "        vertical-align: middle;\n",
       "    }\n",
       "\n",
       "    .dataframe tbody tr th {\n",
       "        vertical-align: top;\n",
       "    }\n",
       "\n",
       "    .dataframe thead th {\n",
       "        text-align: right;\n",
       "    }\n",
       "</style>\n",
       "<table border=\"1\" class=\"dataframe\">\n",
       "  <thead>\n",
       "    <tr style=\"text-align: right;\">\n",
       "      <th></th>\n",
       "      <th>class</th>\n",
       "      <th>aa_000</th>\n",
       "      <th>ab_000</th>\n",
       "      <th>ac_000</th>\n",
       "      <th>ad_000</th>\n",
       "      <th>ae_000</th>\n",
       "      <th>af_000</th>\n",
       "      <th>ag_000</th>\n",
       "      <th>ag_001</th>\n",
       "      <th>ag_002</th>\n",
       "      <th>...</th>\n",
       "      <th>ee_002</th>\n",
       "      <th>ee_003</th>\n",
       "      <th>ee_004</th>\n",
       "      <th>ee_005</th>\n",
       "      <th>ee_006</th>\n",
       "      <th>ee_007</th>\n",
       "      <th>ee_008</th>\n",
       "      <th>ee_009</th>\n",
       "      <th>ef_000</th>\n",
       "      <th>eg_000</th>\n",
       "    </tr>\n",
       "  </thead>\n",
       "  <tbody>\n",
       "    <tr>\n",
       "      <th>0</th>\n",
       "      <td>neg</td>\n",
       "      <td>76698</td>\n",
       "      <td>na</td>\n",
       "      <td>2130706438</td>\n",
       "      <td>280</td>\n",
       "      <td>0</td>\n",
       "      <td>0</td>\n",
       "      <td>0</td>\n",
       "      <td>0</td>\n",
       "      <td>0</td>\n",
       "      <td>...</td>\n",
       "      <td>1240520</td>\n",
       "      <td>493384</td>\n",
       "      <td>721044</td>\n",
       "      <td>469792</td>\n",
       "      <td>339156</td>\n",
       "      <td>157956</td>\n",
       "      <td>73224</td>\n",
       "      <td>0</td>\n",
       "      <td>0</td>\n",
       "      <td>0</td>\n",
       "    </tr>\n",
       "    <tr>\n",
       "      <th>1</th>\n",
       "      <td>neg</td>\n",
       "      <td>33058</td>\n",
       "      <td>na</td>\n",
       "      <td>0</td>\n",
       "      <td>na</td>\n",
       "      <td>0</td>\n",
       "      <td>0</td>\n",
       "      <td>0</td>\n",
       "      <td>0</td>\n",
       "      <td>0</td>\n",
       "      <td>...</td>\n",
       "      <td>421400</td>\n",
       "      <td>178064</td>\n",
       "      <td>293306</td>\n",
       "      <td>245416</td>\n",
       "      <td>133654</td>\n",
       "      <td>81140</td>\n",
       "      <td>97576</td>\n",
       "      <td>1500</td>\n",
       "      <td>0</td>\n",
       "      <td>0</td>\n",
       "    </tr>\n",
       "    <tr>\n",
       "      <th>2</th>\n",
       "      <td>neg</td>\n",
       "      <td>41040</td>\n",
       "      <td>na</td>\n",
       "      <td>228</td>\n",
       "      <td>100</td>\n",
       "      <td>0</td>\n",
       "      <td>0</td>\n",
       "      <td>0</td>\n",
       "      <td>0</td>\n",
       "      <td>0</td>\n",
       "      <td>...</td>\n",
       "      <td>277378</td>\n",
       "      <td>159812</td>\n",
       "      <td>423992</td>\n",
       "      <td>409564</td>\n",
       "      <td>320746</td>\n",
       "      <td>158022</td>\n",
       "      <td>95128</td>\n",
       "      <td>514</td>\n",
       "      <td>0</td>\n",
       "      <td>0</td>\n",
       "    </tr>\n",
       "    <tr>\n",
       "      <th>3</th>\n",
       "      <td>neg</td>\n",
       "      <td>12</td>\n",
       "      <td>0</td>\n",
       "      <td>70</td>\n",
       "      <td>66</td>\n",
       "      <td>0</td>\n",
       "      <td>10</td>\n",
       "      <td>0</td>\n",
       "      <td>0</td>\n",
       "      <td>0</td>\n",
       "      <td>...</td>\n",
       "      <td>240</td>\n",
       "      <td>46</td>\n",
       "      <td>58</td>\n",
       "      <td>44</td>\n",
       "      <td>10</td>\n",
       "      <td>0</td>\n",
       "      <td>0</td>\n",
       "      <td>0</td>\n",
       "      <td>4</td>\n",
       "      <td>32</td>\n",
       "    </tr>\n",
       "    <tr>\n",
       "      <th>4</th>\n",
       "      <td>neg</td>\n",
       "      <td>60874</td>\n",
       "      <td>na</td>\n",
       "      <td>1368</td>\n",
       "      <td>458</td>\n",
       "      <td>0</td>\n",
       "      <td>0</td>\n",
       "      <td>0</td>\n",
       "      <td>0</td>\n",
       "      <td>0</td>\n",
       "      <td>...</td>\n",
       "      <td>622012</td>\n",
       "      <td>229790</td>\n",
       "      <td>405298</td>\n",
       "      <td>347188</td>\n",
       "      <td>286954</td>\n",
       "      <td>311560</td>\n",
       "      <td>433954</td>\n",
       "      <td>1218</td>\n",
       "      <td>0</td>\n",
       "      <td>0</td>\n",
       "    </tr>\n",
       "  </tbody>\n",
       "</table>\n",
       "<p>5 rows × 171 columns</p>\n",
       "</div>"
      ],
      "text/plain": [
       "  class  aa_000 ab_000      ac_000 ad_000 ae_000 af_000 ag_000 ag_001 ag_002  \\\n",
       "0   neg   76698     na  2130706438    280      0      0      0      0      0   \n",
       "1   neg   33058     na           0     na      0      0      0      0      0   \n",
       "2   neg   41040     na         228    100      0      0      0      0      0   \n",
       "3   neg      12      0          70     66      0     10      0      0      0   \n",
       "4   neg   60874     na        1368    458      0      0      0      0      0   \n",
       "\n",
       "   ...   ee_002  ee_003  ee_004  ee_005  ee_006  ee_007  ee_008 ee_009 ef_000  \\\n",
       "0  ...  1240520  493384  721044  469792  339156  157956   73224      0      0   \n",
       "1  ...   421400  178064  293306  245416  133654   81140   97576   1500      0   \n",
       "2  ...   277378  159812  423992  409564  320746  158022   95128    514      0   \n",
       "3  ...      240      46      58      44      10       0       0      0      4   \n",
       "4  ...   622012  229790  405298  347188  286954  311560  433954   1218      0   \n",
       "\n",
       "  eg_000  \n",
       "0      0  \n",
       "1      0  \n",
       "2      0  \n",
       "3     32  \n",
       "4      0  \n",
       "\n",
       "[5 rows x 171 columns]"
      ]
     },
     "execution_count": 11,
     "metadata": {},
     "output_type": "execute_result"
    }
   ],
   "source": [
    "df = pd.read_csv('data/aps_failure_training_set.csv')\n",
    "df.dropna()\n",
    "df.head()"
   ]
  },
  {
   "cell_type": "markdown",
   "metadata": {},
   "source": [
    "### Encoding"
   ]
  },
  {
   "cell_type": "code",
   "execution_count": 12,
   "metadata": {},
   "outputs": [
    {
     "data": {
      "text/html": [
       "<div>\n",
       "<style scoped>\n",
       "    .dataframe tbody tr th:only-of-type {\n",
       "        vertical-align: middle;\n",
       "    }\n",
       "\n",
       "    .dataframe tbody tr th {\n",
       "        vertical-align: top;\n",
       "    }\n",
       "\n",
       "    .dataframe thead th {\n",
       "        text-align: right;\n",
       "    }\n",
       "</style>\n",
       "<table border=\"1\" class=\"dataframe\">\n",
       "  <thead>\n",
       "    <tr style=\"text-align: right;\">\n",
       "      <th></th>\n",
       "      <th>class</th>\n",
       "      <th>aa_000</th>\n",
       "      <th>ab_000</th>\n",
       "      <th>ac_000</th>\n",
       "      <th>ad_000</th>\n",
       "      <th>ae_000</th>\n",
       "      <th>af_000</th>\n",
       "      <th>ag_000</th>\n",
       "      <th>ag_001</th>\n",
       "      <th>ag_002</th>\n",
       "      <th>...</th>\n",
       "      <th>ee_002</th>\n",
       "      <th>ee_003</th>\n",
       "      <th>ee_004</th>\n",
       "      <th>ee_005</th>\n",
       "      <th>ee_006</th>\n",
       "      <th>ee_007</th>\n",
       "      <th>ee_008</th>\n",
       "      <th>ee_009</th>\n",
       "      <th>ef_000</th>\n",
       "      <th>eg_000</th>\n",
       "    </tr>\n",
       "  </thead>\n",
       "  <tbody>\n",
       "    <tr>\n",
       "      <th>0</th>\n",
       "      <td>0</td>\n",
       "      <td>76698</td>\n",
       "      <td>29</td>\n",
       "      <td>675</td>\n",
       "      <td>938</td>\n",
       "      <td>0</td>\n",
       "      <td>0</td>\n",
       "      <td>0</td>\n",
       "      <td>0</td>\n",
       "      <td>0</td>\n",
       "      <td>...</td>\n",
       "      <td>2107</td>\n",
       "      <td>25357</td>\n",
       "      <td>30850</td>\n",
       "      <td>24736</td>\n",
       "      <td>19422</td>\n",
       "      <td>7142</td>\n",
       "      <td>21198</td>\n",
       "      <td>0</td>\n",
       "      <td>0</td>\n",
       "      <td>0</td>\n",
       "    </tr>\n",
       "    <tr>\n",
       "      <th>1</th>\n",
       "      <td>0</td>\n",
       "      <td>33058</td>\n",
       "      <td>29</td>\n",
       "      <td>0</td>\n",
       "      <td>1886</td>\n",
       "      <td>0</td>\n",
       "      <td>0</td>\n",
       "      <td>0</td>\n",
       "      <td>0</td>\n",
       "      <td>0</td>\n",
       "      <td>...</td>\n",
       "      <td>21533</td>\n",
       "      <td>10136</td>\n",
       "      <td>13462</td>\n",
       "      <td>10717</td>\n",
       "      <td>3254</td>\n",
       "      <td>27785</td>\n",
       "      <td>23994</td>\n",
       "      <td>1737</td>\n",
       "      <td>0</td>\n",
       "      <td>0</td>\n",
       "    </tr>\n",
       "    <tr>\n",
       "      <th>2</th>\n",
       "      <td>0</td>\n",
       "      <td>41040</td>\n",
       "      <td>29</td>\n",
       "      <td>809</td>\n",
       "      <td>2</td>\n",
       "      <td>0</td>\n",
       "      <td>0</td>\n",
       "      <td>0</td>\n",
       "      <td>0</td>\n",
       "      <td>0</td>\n",
       "      <td>...</td>\n",
       "      <td>11705</td>\n",
       "      <td>7823</td>\n",
       "      <td>21651</td>\n",
       "      <td>22021</td>\n",
       "      <td>18547</td>\n",
       "      <td>7150</td>\n",
       "      <td>23721</td>\n",
       "      <td>6977</td>\n",
       "      <td>0</td>\n",
       "      <td>0</td>\n",
       "    </tr>\n",
       "    <tr>\n",
       "      <th>3</th>\n",
       "      <td>0</td>\n",
       "      <td>12</td>\n",
       "      <td>0</td>\n",
       "      <td>1809</td>\n",
       "      <td>1601</td>\n",
       "      <td>0</td>\n",
       "      <td>1</td>\n",
       "      <td>0</td>\n",
       "      <td>0</td>\n",
       "      <td>0</td>\n",
       "      <td>...</td>\n",
       "      <td>8961</td>\n",
       "      <td>24647</td>\n",
       "      <td>27510</td>\n",
       "      <td>23495</td>\n",
       "      <td>1</td>\n",
       "      <td>0</td>\n",
       "      <td>0</td>\n",
       "      <td>0</td>\n",
       "      <td>19</td>\n",
       "      <td>23</td>\n",
       "    </tr>\n",
       "    <tr>\n",
       "      <th>4</th>\n",
       "      <td>0</td>\n",
       "      <td>60874</td>\n",
       "      <td>29</td>\n",
       "      <td>243</td>\n",
       "      <td>1360</td>\n",
       "      <td>0</td>\n",
       "      <td>0</td>\n",
       "      <td>0</td>\n",
       "      <td>0</td>\n",
       "      <td>0</td>\n",
       "      <td>...</td>\n",
       "      <td>28485</td>\n",
       "      <td>15321</td>\n",
       "      <td>20665</td>\n",
       "      <td>18364</td>\n",
       "      <td>16724</td>\n",
       "      <td>16867</td>\n",
       "      <td>15931</td>\n",
       "      <td>824</td>\n",
       "      <td>0</td>\n",
       "      <td>0</td>\n",
       "    </tr>\n",
       "  </tbody>\n",
       "</table>\n",
       "<p>5 rows × 171 columns</p>\n",
       "</div>"
      ],
      "text/plain": [
       "   class  aa_000  ab_000  ac_000  ad_000  ae_000  af_000  ag_000  ag_001  \\\n",
       "0      0   76698      29     675     938       0       0       0       0   \n",
       "1      0   33058      29       0    1886       0       0       0       0   \n",
       "2      0   41040      29     809       2       0       0       0       0   \n",
       "3      0      12       0    1809    1601       0       1       0       0   \n",
       "4      0   60874      29     243    1360       0       0       0       0   \n",
       "\n",
       "   ag_002  ...  ee_002  ee_003  ee_004  ee_005  ee_006  ee_007  ee_008  \\\n",
       "0       0  ...    2107   25357   30850   24736   19422    7142   21198   \n",
       "1       0  ...   21533   10136   13462   10717    3254   27785   23994   \n",
       "2       0  ...   11705    7823   21651   22021   18547    7150   23721   \n",
       "3       0  ...    8961   24647   27510   23495       1       0       0   \n",
       "4       0  ...   28485   15321   20665   18364   16724   16867   15931   \n",
       "\n",
       "   ee_009  ef_000  eg_000  \n",
       "0       0       0       0  \n",
       "1    1737       0       0  \n",
       "2    6977       0       0  \n",
       "3       0      19      23  \n",
       "4     824       0       0  \n",
       "\n",
       "[5 rows x 171 columns]"
      ]
     },
     "execution_count": 12,
     "metadata": {},
     "output_type": "execute_result"
    }
   ],
   "source": [
    "# Initialize the LabelEncoder\n",
    "label_encoder = LabelEncoder()\n",
    "\n",
    "# Apply LabelEncoder to each categorical column\n",
    "for column in df.select_dtypes(include=['object']).columns:\n",
    "    df[column] = label_encoder.fit_transform(df[column])\n",
    "\n",
    "df.head()"
   ]
  },
  {
   "cell_type": "markdown",
   "metadata": {},
   "source": [
    "### Split into train and test"
   ]
  },
  {
   "cell_type": "code",
   "execution_count": 13,
   "metadata": {},
   "outputs": [
    {
     "name": "stdout",
     "output_type": "stream",
     "text": [
      "Training set size: 48000\n",
      "Test set size: 12000\n"
     ]
    }
   ],
   "source": [
    "X = df.drop('class', axis=1)\n",
    "y = df['class']\n",
    "\n",
    "X_train, X_test, y_train, y_test = train_test_split(X, y, test_size=0.2, random_state=42)\n",
    "\n",
    "print(f\"Training set size: {X_train.shape[0]}\")\n",
    "print(f\"Test set size: {X_test.shape[0]}\")"
   ]
  },
  {
   "cell_type": "markdown",
   "metadata": {},
   "source": [
    "### Helper Functions"
   ]
  },
  {
   "cell_type": "code",
   "execution_count": 14,
   "metadata": {},
   "outputs": [],
   "source": [
    "def plot_confusion_matrix(y_test, y_pred, model_name):\n",
    "    cm = confusion_matrix(y_test, y_pred)\n",
    "    plt.figure(figsize=(10, 7))\n",
    "    sns.heatmap(cm, annot=True, fmt='d', cmap='Blues', xticklabels=np.unique(y_test), yticklabels=np.unique(y_test))\n",
    "    plt.xlabel('Predicted')\n",
    "    plt.ylabel('Actual')\n",
    "    plt.title(f'Confusion Matrix for {model_name}')\n",
    "    plt.show()\n",
    "\n",
    "def perform_model(X_train, y_train, X_test, y_test, model, model_name=\"model\", sample_weight=None, verbose=True, **kwargs):\n",
    "    model.set_params(**kwargs)\n",
    "    model.fit(X_train, y_train, sample_weight=sample_weight)\n",
    "    y_pred = model.predict(X_test)\n",
    "    if verbose:\n",
    "        print(f\"Best parameters for {model_name}: {kwargs}\")\n",
    "        print(confusion_matrix(y_test, y_pred))\n",
    "        print(classification_report(y_test, y_pred))\n",
    "        #plot_confusion_matrix(y_test, y_pred, model_name)\n",
    "\n",
    "def grid_search(X_train, y_train, X_test, y_test, model, params, verbose=True):\n",
    "    grid = GridSearchCV(model, params, cv=5, refit=True, verbose=3)\n",
    "    grid.fit(X_train, y_train)\n",
    "    y_pred = grid.predict(X_test)\n",
    "    if verbose:\n",
    "        print(f\"Best parameters for {model.__class__.__name__}: {grid.best_params_}\")\n",
    "        print(confusion_matrix(y_test, y_pred))\n",
    "        print(classification_report(y_test, y_pred))\n",
    "        plot_confusion_matrix(y_test, y_pred, model.__class__.__name__)\n",
    "    return grid, grid.best_params_"
   ]
  },
  {
   "cell_type": "markdown",
   "metadata": {},
   "source": [
    "## TASK1"
   ]
  },
  {
   "cell_type": "markdown",
   "metadata": {},
   "source": [
    "### GridSearch"
   ]
  },
  {
   "cell_type": "code",
   "execution_count": 6,
   "metadata": {},
   "outputs": [],
   "source": [
    "# Dictionary to store best parameters\n",
    "best_params = {}"
   ]
  },
  {
   "cell_type": "markdown",
   "metadata": {},
   "source": [
    "### Support Vector Machine"
   ]
  },
  {
   "cell_type": "code",
   "execution_count": 7,
   "metadata": {},
   "outputs": [
    {
     "name": "stdout",
     "output_type": "stream",
     "text": [
      "Fitting 5 folds for each of 15 candidates, totalling 75 fits\n",
      "[CV 1/5] END .................C=0.1, kernel=rbf;, score=0.985 total time=   9.9s\n",
      "[CV 2/5] END .................C=0.1, kernel=rbf;, score=0.984 total time=   9.4s\n",
      "[CV 3/5] END .................C=0.1, kernel=rbf;, score=0.984 total time=  13.7s\n",
      "[CV 4/5] END .................C=0.1, kernel=rbf;, score=0.984 total time=  21.5s\n",
      "[CV 5/5] END .................C=0.1, kernel=rbf;, score=0.984 total time=  15.1s\n",
      "[CV 1/5] END ................C=0.1, kernel=poly;, score=0.988 total time=  18.3s\n",
      "[CV 2/5] END ................C=0.1, kernel=poly;, score=0.987 total time=  16.7s\n",
      "[CV 3/5] END ................C=0.1, kernel=poly;, score=0.987 total time=  16.2s\n",
      "[CV 4/5] END ................C=0.1, kernel=poly;, score=0.987 total time=  16.4s\n",
      "[CV 5/5] END ................C=0.1, kernel=poly;, score=0.987 total time=  15.4s\n",
      "[CV 1/5] END .............C=0.1, kernel=sigmoid;, score=0.977 total time=  11.3s\n",
      "[CV 2/5] END .............C=0.1, kernel=sigmoid;, score=0.978 total time=  10.7s\n",
      "[CV 3/5] END .............C=0.1, kernel=sigmoid;, score=0.977 total time=  10.3s\n",
      "[CV 4/5] END .............C=0.1, kernel=sigmoid;, score=0.979 total time=  10.8s\n",
      "[CV 5/5] END .............C=0.1, kernel=sigmoid;, score=0.979 total time=  12.0s\n",
      "[CV 1/5] END ...................C=1, kernel=rbf;, score=0.987 total time=  18.2s\n",
      "[CV 2/5] END ...................C=1, kernel=rbf;, score=0.985 total time=  20.9s\n",
      "[CV 3/5] END ...................C=1, kernel=rbf;, score=0.985 total time=  28.6s\n",
      "[CV 4/5] END ...................C=1, kernel=rbf;, score=0.986 total time=  28.5s\n",
      "[CV 5/5] END ...................C=1, kernel=rbf;, score=0.987 total time=  29.6s\n",
      "[CV 1/5] END ..................C=1, kernel=poly;, score=0.989 total time=  38.2s\n",
      "[CV 2/5] END ..................C=1, kernel=poly;, score=0.989 total time=  46.9s\n",
      "[CV 3/5] END ..................C=1, kernel=poly;, score=0.988 total time=  49.2s\n",
      "[CV 4/5] END ..................C=1, kernel=poly;, score=0.988 total time=  49.8s\n",
      "[CV 5/5] END ..................C=1, kernel=poly;, score=0.989 total time=  45.3s\n",
      "[CV 1/5] END ...............C=1, kernel=sigmoid;, score=0.970 total time=  17.4s\n",
      "[CV 2/5] END ...............C=1, kernel=sigmoid;, score=0.972 total time=  17.5s\n",
      "[CV 3/5] END ...............C=1, kernel=sigmoid;, score=0.969 total time=  17.6s\n",
      "[CV 4/5] END ...............C=1, kernel=sigmoid;, score=0.972 total time=  17.5s\n",
      "[CV 5/5] END ...............C=1, kernel=sigmoid;, score=0.971 total time=  20.2s\n",
      "[CV 1/5] END ..................C=10, kernel=rbf;, score=0.990 total time=  30.8s\n",
      "[CV 2/5] END ..................C=10, kernel=rbf;, score=0.989 total time=  27.7s\n",
      "[CV 3/5] END ..................C=10, kernel=rbf;, score=0.988 total time=  22.2s\n",
      "[CV 4/5] END ..................C=10, kernel=rbf;, score=0.989 total time=  12.0s\n",
      "[CV 5/5] END ..................C=10, kernel=rbf;, score=0.989 total time=  10.8s\n",
      "[CV 1/5] END .................C=10, kernel=poly;, score=0.989 total time=  26.8s\n",
      "[CV 2/5] END .................C=10, kernel=poly;, score=0.989 total time=  28.9s\n",
      "[CV 3/5] END .................C=10, kernel=poly;, score=0.990 total time=  32.8s\n",
      "[CV 4/5] END .................C=10, kernel=poly;, score=0.989 total time=  28.6s\n",
      "[CV 5/5] END .................C=10, kernel=poly;, score=0.989 total time=  33.2s\n",
      "[CV 1/5] END ..............C=10, kernel=sigmoid;, score=0.968 total time=   7.0s\n",
      "[CV 2/5] END ..............C=10, kernel=sigmoid;, score=0.969 total time=   7.6s\n",
      "[CV 3/5] END ..............C=10, kernel=sigmoid;, score=0.967 total time=   7.1s\n",
      "[CV 4/5] END ..............C=10, kernel=sigmoid;, score=0.969 total time=   7.3s\n",
      "[CV 5/5] END ..............C=10, kernel=sigmoid;, score=0.967 total time=   8.6s\n",
      "[CV 1/5] END .................C=100, kernel=rbf;, score=0.991 total time=  33.2s\n",
      "[CV 2/5] END .................C=100, kernel=rbf;, score=0.989 total time=  24.7s\n",
      "[CV 3/5] END .................C=100, kernel=rbf;, score=0.990 total time=  28.5s\n",
      "[CV 4/5] END .................C=100, kernel=rbf;, score=0.989 total time=  32.3s\n",
      "[CV 5/5] END .................C=100, kernel=rbf;, score=0.989 total time=  32.8s\n",
      "[CV 1/5] END ................C=100, kernel=poly;, score=0.988 total time=  52.6s\n",
      "[CV 2/5] END ................C=100, kernel=poly;, score=0.990 total time=  53.2s\n",
      "[CV 3/5] END ................C=100, kernel=poly;, score=0.989 total time=  54.0s\n",
      "[CV 4/5] END ................C=100, kernel=poly;, score=0.988 total time=  50.2s\n",
      "[CV 5/5] END ................C=100, kernel=poly;, score=0.989 total time= 1.1min\n",
      "[CV 1/5] END .............C=100, kernel=sigmoid;, score=0.967 total time=   7.4s\n",
      "[CV 2/5] END .............C=100, kernel=sigmoid;, score=0.969 total time=   7.2s\n",
      "[CV 3/5] END .............C=100, kernel=sigmoid;, score=0.966 total time=   7.2s\n",
      "[CV 4/5] END .............C=100, kernel=sigmoid;, score=0.969 total time=   7.1s\n",
      "[CV 5/5] END .............C=100, kernel=sigmoid;, score=0.967 total time=   8.1s\n",
      "[CV 1/5] END ................C=1000, kernel=rbf;, score=0.991 total time=  30.5s\n",
      "[CV 2/5] END ................C=1000, kernel=rbf;, score=0.989 total time=  24.1s\n",
      "[CV 3/5] END ................C=1000, kernel=rbf;, score=0.990 total time=  26.3s\n",
      "[CV 4/5] END ................C=1000, kernel=rbf;, score=0.989 total time=  29.4s\n",
      "[CV 5/5] END ................C=1000, kernel=rbf;, score=0.989 total time=  27.9s\n",
      "[CV 1/5] END ...............C=1000, kernel=poly;, score=0.989 total time=  52.9s\n",
      "[CV 2/5] END ...............C=1000, kernel=poly;, score=0.990 total time=  49.1s\n",
      "[CV 3/5] END ...............C=1000, kernel=poly;, score=0.989 total time= 1.2min\n",
      "[CV 4/5] END ...............C=1000, kernel=poly;, score=0.988 total time= 1.2min\n",
      "[CV 5/5] END ...............C=1000, kernel=poly;, score=0.988 total time= 1.0min\n",
      "[CV 1/5] END ............C=1000, kernel=sigmoid;, score=0.967 total time=   7.4s\n",
      "[CV 2/5] END ............C=1000, kernel=sigmoid;, score=0.969 total time=   6.8s\n",
      "[CV 3/5] END ............C=1000, kernel=sigmoid;, score=0.966 total time=   6.4s\n",
      "[CV 4/5] END ............C=1000, kernel=sigmoid;, score=0.969 total time=   6.5s\n",
      "[CV 5/5] END ............C=1000, kernel=sigmoid;, score=0.967 total time=   7.7s\n",
      "Best parameters for SVC: {'C': 100, 'kernel': 'rbf'}\n",
      "[[11730    58]\n",
      " [   71   141]]\n",
      "              precision    recall  f1-score   support\n",
      "\n",
      "           0       0.99      1.00      0.99     11788\n",
      "           1       0.71      0.67      0.69       212\n",
      "\n",
      "    accuracy                           0.99     12000\n",
      "   macro avg       0.85      0.83      0.84     12000\n",
      "weighted avg       0.99      0.99      0.99     12000\n",
      "\n"
     ]
    },
    {
     "data": {
      "image/png": "[encoded data removed]",
      "text/plain": [
       "<Figure size 1000x700 with 2 Axes>"
      ]
     },
     "metadata": {},
     "output_type": "display_data"
    }
   ],
   "source": [
    "# SVC\n",
    "svc_params = {'C': [0.1, 1, 10, 100, 1000], 'kernel': ['rbf', 'poly', 'sigmoid']}\n",
    "svc_grid, svc_best_params = grid_search(X_train, y_train, X_test, y_test, SVC(), svc_params)\n",
    "best_params['SVC'] = svc_best_params"
   ]
  },
  {
   "cell_type": "markdown",
   "metadata": {},
   "source": [
    "### Logistic Regression"
   ]
  },
  {
   "cell_type": "code",
   "execution_count": 8,
   "metadata": {},
   "outputs": [
    {
     "name": "stdout",
     "output_type": "stream",
     "text": [
      "Fitting 5 folds for each of 20 candidates, totalling 100 fits\n",
      "[CV 1/5] END C=0.1, penalty=l1, solver=liblinear;, score=0.988 total time=  13.3s\n",
      "[CV 2/5] END C=0.1, penalty=l1, solver=liblinear;, score=0.989 total time=  20.7s\n",
      "[CV 3/5] END C=0.1, penalty=l1, solver=liblinear;, score=0.988 total time=  17.0s\n",
      "[CV 4/5] END C=0.1, penalty=l1, solver=liblinear;, score=0.988 total time=  16.0s\n",
      "[CV 5/5] END C=0.1, penalty=l1, solver=liblinear;, score=0.988 total time=  13.6s\n"
     ]
    },
    {
     "name": "stderr",
     "output_type": "stream",
     "text": [
      "c:\\Users\\anike\\AppData\\Local\\Programs\\Python\\Python312\\Lib\\site-packages\\sklearn\\linear_model\\_sag.py:350: ConvergenceWarning: The max_iter was reached which means the coef_ did not converge\n",
      "  warnings.warn(\n"
     ]
    },
    {
     "name": "stdout",
     "output_type": "stream",
     "text": [
      "[CV 1/5] END ....C=0.1, penalty=l1, solver=saga;, score=0.985 total time= 1.4min\n"
     ]
    },
    {
     "name": "stderr",
     "output_type": "stream",
     "text": [
      "c:\\Users\\anike\\AppData\\Local\\Programs\\Python\\Python312\\Lib\\site-packages\\sklearn\\linear_model\\_sag.py:350: ConvergenceWarning: The max_iter was reached which means the coef_ did not converge\n",
      "  warnings.warn(\n"
     ]
    },
    {
     "name": "stdout",
     "output_type": "stream",
     "text": [
      "[CV 2/5] END ....C=0.1, penalty=l1, solver=saga;, score=0.985 total time= 1.5min\n"
     ]
    },
    {
     "name": "stderr",
     "output_type": "stream",
     "text": [
      "c:\\Users\\anike\\AppData\\Local\\Programs\\Python\\Python312\\Lib\\site-packages\\sklearn\\linear_model\\_sag.py:350: ConvergenceWarning: The max_iter was reached which means the coef_ did not converge\n",
      "  warnings.warn(\n"
     ]
    },
    {
     "name": "stdout",
     "output_type": "stream",
     "text": [
      "[CV 3/5] END ....C=0.1, penalty=l1, solver=saga;, score=0.983 total time= 1.5min\n"
     ]
    },
    {
     "name": "stderr",
     "output_type": "stream",
     "text": [
      "c:\\Users\\anike\\AppData\\Local\\Programs\\Python\\Python312\\Lib\\site-packages\\sklearn\\linear_model\\_sag.py:350: ConvergenceWarning: The max_iter was reached which means the coef_ did not converge\n",
      "  warnings.warn(\n"
     ]
    },
    {
     "name": "stdout",
     "output_type": "stream",
     "text": [
      "[CV 4/5] END ....C=0.1, penalty=l1, solver=saga;, score=0.984 total time= 1.5min\n"
     ]
    },
    {
     "name": "stderr",
     "output_type": "stream",
     "text": [
      "c:\\Users\\anike\\AppData\\Local\\Programs\\Python\\Python312\\Lib\\site-packages\\sklearn\\linear_model\\_sag.py:350: ConvergenceWarning: The max_iter was reached which means the coef_ did not converge\n",
      "  warnings.warn(\n"
     ]
    },
    {
     "name": "stdout",
     "output_type": "stream",
     "text": [
      "[CV 5/5] END ....C=0.1, penalty=l1, solver=saga;, score=0.984 total time= 1.5min\n",
      "[CV 1/5] END C=0.1, penalty=l2, solver=liblinear;, score=0.987 total time= 3.6min\n",
      "[CV 2/5] END C=0.1, penalty=l2, solver=liblinear;, score=0.988 total time= 5.2min\n",
      "[CV 3/5] END C=0.1, penalty=l2, solver=liblinear;, score=0.987 total time= 3.3min\n",
      "[CV 4/5] END C=0.1, penalty=l2, solver=liblinear;, score=0.987 total time= 1.3min\n",
      "[CV 5/5] END C=0.1, penalty=l2, solver=liblinear;, score=0.987 total time= 2.0min\n"
     ]
    },
    {
     "name": "stderr",
     "output_type": "stream",
     "text": [
      "c:\\Users\\anike\\AppData\\Local\\Programs\\Python\\Python312\\Lib\\site-packages\\sklearn\\linear_model\\_sag.py:350: ConvergenceWarning: The max_iter was reached which means the coef_ did not converge\n",
      "  warnings.warn(\n"
     ]
    },
    {
     "name": "stdout",
     "output_type": "stream",
     "text": [
      "[CV 1/5] END ....C=0.1, penalty=l2, solver=saga;, score=0.985 total time= 1.1min\n"
     ]
    },
    {
     "name": "stderr",
     "output_type": "stream",
     "text": [
      "c:\\Users\\anike\\AppData\\Local\\Programs\\Python\\Python312\\Lib\\site-packages\\sklearn\\linear_model\\_sag.py:350: ConvergenceWarning: The max_iter was reached which means the coef_ did not converge\n",
      "  warnings.warn(\n"
     ]
    },
    {
     "name": "stdout",
     "output_type": "stream",
     "text": [
      "[CV 2/5] END ....C=0.1, penalty=l2, solver=saga;, score=0.985 total time= 1.1min\n"
     ]
    },
    {
     "name": "stderr",
     "output_type": "stream",
     "text": [
      "c:\\Users\\anike\\AppData\\Local\\Programs\\Python\\Python312\\Lib\\site-packages\\sklearn\\linear_model\\_sag.py:350: ConvergenceWarning: The max_iter was reached which means the coef_ did not converge\n",
      "  warnings.warn(\n"
     ]
    },
    {
     "name": "stdout",
     "output_type": "stream",
     "text": [
      "[CV 3/5] END ....C=0.1, penalty=l2, solver=saga;, score=0.983 total time= 1.1min\n"
     ]
    },
    {
     "name": "stderr",
     "output_type": "stream",
     "text": [
      "c:\\Users\\anike\\AppData\\Local\\Programs\\Python\\Python312\\Lib\\site-packages\\sklearn\\linear_model\\_sag.py:350: ConvergenceWarning: The max_iter was reached which means the coef_ did not converge\n",
      "  warnings.warn(\n"
     ]
    },
    {
     "name": "stdout",
     "output_type": "stream",
     "text": [
      "[CV 4/5] END ....C=0.1, penalty=l2, solver=saga;, score=0.984 total time= 1.1min\n"
     ]
    },
    {
     "name": "stderr",
     "output_type": "stream",
     "text": [
      "c:\\Users\\anike\\AppData\\Local\\Programs\\Python\\Python312\\Lib\\site-packages\\sklearn\\linear_model\\_sag.py:350: ConvergenceWarning: The max_iter was reached which means the coef_ did not converge\n",
      "  warnings.warn(\n"
     ]
    },
    {
     "name": "stdout",
     "output_type": "stream",
     "text": [
      "[CV 5/5] END ....C=0.1, penalty=l2, solver=saga;, score=0.984 total time= 1.1min\n",
      "[CV 1/5] END .C=1, penalty=l1, solver=liblinear;, score=0.988 total time=  14.7s\n",
      "[CV 2/5] END .C=1, penalty=l1, solver=liblinear;, score=0.988 total time=  20.9s\n",
      "[CV 3/5] END .C=1, penalty=l1, solver=liblinear;, score=0.987 total time=  19.2s\n",
      "[CV 4/5] END .C=1, penalty=l1, solver=liblinear;, score=0.988 total time=  19.3s\n",
      "[CV 5/5] END .C=1, penalty=l1, solver=liblinear;, score=0.988 total time=  18.1s\n"
     ]
    },
    {
     "name": "stderr",
     "output_type": "stream",
     "text": [
      "c:\\Users\\anike\\AppData\\Local\\Programs\\Python\\Python312\\Lib\\site-packages\\sklearn\\linear_model\\_sag.py:350: ConvergenceWarning: The max_iter was reached which means the coef_ did not converge\n",
      "  warnings.warn(\n"
     ]
    },
    {
     "name": "stdout",
     "output_type": "stream",
     "text": [
      "[CV 1/5] END ......C=1, penalty=l1, solver=saga;, score=0.985 total time= 1.5min\n"
     ]
    },
    {
     "name": "stderr",
     "output_type": "stream",
     "text": [
      "c:\\Users\\anike\\AppData\\Local\\Programs\\Python\\Python312\\Lib\\site-packages\\sklearn\\linear_model\\_sag.py:350: ConvergenceWarning: The max_iter was reached which means the coef_ did not converge\n",
      "  warnings.warn(\n"
     ]
    },
    {
     "name": "stdout",
     "output_type": "stream",
     "text": [
      "[CV 2/5] END ......C=1, penalty=l1, solver=saga;, score=0.985 total time= 1.2min\n"
     ]
    },
    {
     "name": "stderr",
     "output_type": "stream",
     "text": [
      "c:\\Users\\anike\\AppData\\Local\\Programs\\Python\\Python312\\Lib\\site-packages\\sklearn\\linear_model\\_sag.py:350: ConvergenceWarning: The max_iter was reached which means the coef_ did not converge\n",
      "  warnings.warn(\n"
     ]
    },
    {
     "name": "stdout",
     "output_type": "stream",
     "text": [
      "[CV 3/5] END ......C=1, penalty=l1, solver=saga;, score=0.983 total time= 1.2min\n"
     ]
    },
    {
     "name": "stderr",
     "output_type": "stream",
     "text": [
      "c:\\Users\\anike\\AppData\\Local\\Programs\\Python\\Python312\\Lib\\site-packages\\sklearn\\linear_model\\_sag.py:350: ConvergenceWarning: The max_iter was reached which means the coef_ did not converge\n",
      "  warnings.warn(\n"
     ]
    },
    {
     "name": "stdout",
     "output_type": "stream",
     "text": [
      "[CV 4/5] END ......C=1, penalty=l1, solver=saga;, score=0.984 total time= 1.3min\n"
     ]
    },
    {
     "name": "stderr",
     "output_type": "stream",
     "text": [
      "c:\\Users\\anike\\AppData\\Local\\Programs\\Python\\Python312\\Lib\\site-packages\\sklearn\\linear_model\\_sag.py:350: ConvergenceWarning: The max_iter was reached which means the coef_ did not converge\n",
      "  warnings.warn(\n"
     ]
    },
    {
     "name": "stdout",
     "output_type": "stream",
     "text": [
      "[CV 5/5] END ......C=1, penalty=l1, solver=saga;, score=0.984 total time= 1.3min\n",
      "[CV 1/5] END .C=1, penalty=l2, solver=liblinear;, score=0.987 total time= 6.2min\n",
      "[CV 2/5] END .C=1, penalty=l2, solver=liblinear;, score=0.988 total time= 1.5min\n",
      "[CV 3/5] END .C=1, penalty=l2, solver=liblinear;, score=0.987 total time= 1.6min\n",
      "[CV 4/5] END .C=1, penalty=l2, solver=liblinear;, score=0.987 total time= 2.9min\n",
      "[CV 5/5] END .C=1, penalty=l2, solver=liblinear;, score=0.987 total time= 5.0min\n"
     ]
    },
    {
     "name": "stderr",
     "output_type": "stream",
     "text": [
      "c:\\Users\\anike\\AppData\\Local\\Programs\\Python\\Python312\\Lib\\site-packages\\sklearn\\linear_model\\_sag.py:350: ConvergenceWarning: The max_iter was reached which means the coef_ did not converge\n",
      "  warnings.warn(\n"
     ]
    },
    {
     "name": "stdout",
     "output_type": "stream",
     "text": [
      "[CV 1/5] END ......C=1, penalty=l2, solver=saga;, score=0.985 total time= 4.1min\n"
     ]
    },
    {
     "name": "stderr",
     "output_type": "stream",
     "text": [
      "c:\\Users\\anike\\AppData\\Local\\Programs\\Python\\Python312\\Lib\\site-packages\\sklearn\\linear_model\\_sag.py:350: ConvergenceWarning: The max_iter was reached which means the coef_ did not converge\n",
      "  warnings.warn(\n"
     ]
    },
    {
     "name": "stdout",
     "output_type": "stream",
     "text": [
      "[CV 2/5] END ......C=1, penalty=l2, solver=saga;, score=0.985 total time= 4.0min\n"
     ]
    },
    {
     "name": "stderr",
     "output_type": "stream",
     "text": [
      "c:\\Users\\anike\\AppData\\Local\\Programs\\Python\\Python312\\Lib\\site-packages\\sklearn\\linear_model\\_sag.py:350: ConvergenceWarning: The max_iter was reached which means the coef_ did not converge\n",
      "  warnings.warn(\n"
     ]
    },
    {
     "name": "stdout",
     "output_type": "stream",
     "text": [
      "[CV 3/5] END ......C=1, penalty=l2, solver=saga;, score=0.983 total time= 4.0min\n"
     ]
    },
    {
     "name": "stderr",
     "output_type": "stream",
     "text": [
      "c:\\Users\\anike\\AppData\\Local\\Programs\\Python\\Python312\\Lib\\site-packages\\sklearn\\linear_model\\_sag.py:350: ConvergenceWarning: The max_iter was reached which means the coef_ did not converge\n",
      "  warnings.warn(\n"
     ]
    },
    {
     "name": "stdout",
     "output_type": "stream",
     "text": [
      "[CV 4/5] END ......C=1, penalty=l2, solver=saga;, score=0.984 total time= 3.3min\n"
     ]
    },
    {
     "name": "stderr",
     "output_type": "stream",
     "text": [
      "c:\\Users\\anike\\AppData\\Local\\Programs\\Python\\Python312\\Lib\\site-packages\\sklearn\\linear_model\\_sag.py:350: ConvergenceWarning: The max_iter was reached which means the coef_ did not converge\n",
      "  warnings.warn(\n"
     ]
    },
    {
     "name": "stdout",
     "output_type": "stream",
     "text": [
      "[CV 5/5] END ......C=1, penalty=l2, solver=saga;, score=0.984 total time=  53.2s\n",
      "[CV 1/5] END C=10, penalty=l1, solver=liblinear;, score=0.988 total time=  10.7s\n",
      "[CV 2/5] END C=10, penalty=l1, solver=liblinear;, score=0.989 total time=  20.7s\n",
      "[CV 3/5] END C=10, penalty=l1, solver=liblinear;, score=0.987 total time=  17.9s\n",
      "[CV 4/5] END C=10, penalty=l1, solver=liblinear;, score=0.988 total time=  17.0s\n",
      "[CV 5/5] END C=10, penalty=l1, solver=liblinear;, score=0.988 total time=  16.0s\n"
     ]
    },
    {
     "name": "stderr",
     "output_type": "stream",
     "text": [
      "c:\\Users\\anike\\AppData\\Local\\Programs\\Python\\Python312\\Lib\\site-packages\\sklearn\\linear_model\\_sag.py:350: ConvergenceWarning: The max_iter was reached which means the coef_ did not converge\n",
      "  warnings.warn(\n"
     ]
    },
    {
     "name": "stdout",
     "output_type": "stream",
     "text": [
      "[CV 1/5] END .....C=10, penalty=l1, solver=saga;, score=0.985 total time= 1.3min\n"
     ]
    },
    {
     "name": "stderr",
     "output_type": "stream",
     "text": [
      "c:\\Users\\anike\\AppData\\Local\\Programs\\Python\\Python312\\Lib\\site-packages\\sklearn\\linear_model\\_sag.py:350: ConvergenceWarning: The max_iter was reached which means the coef_ did not converge\n",
      "  warnings.warn(\n"
     ]
    },
    {
     "name": "stdout",
     "output_type": "stream",
     "text": [
      "[CV 2/5] END .....C=10, penalty=l1, solver=saga;, score=0.985 total time= 1.3min\n"
     ]
    },
    {
     "name": "stderr",
     "output_type": "stream",
     "text": [
      "c:\\Users\\anike\\AppData\\Local\\Programs\\Python\\Python312\\Lib\\site-packages\\sklearn\\linear_model\\_sag.py:350: ConvergenceWarning: The max_iter was reached which means the coef_ did not converge\n",
      "  warnings.warn(\n"
     ]
    },
    {
     "name": "stdout",
     "output_type": "stream",
     "text": [
      "[CV 3/5] END .....C=10, penalty=l1, solver=saga;, score=0.983 total time= 1.3min\n"
     ]
    },
    {
     "name": "stderr",
     "output_type": "stream",
     "text": [
      "c:\\Users\\anike\\AppData\\Local\\Programs\\Python\\Python312\\Lib\\site-packages\\sklearn\\linear_model\\_sag.py:350: ConvergenceWarning: The max_iter was reached which means the coef_ did not converge\n",
      "  warnings.warn(\n"
     ]
    },
    {
     "name": "stdout",
     "output_type": "stream",
     "text": [
      "[CV 4/5] END .....C=10, penalty=l1, solver=saga;, score=0.984 total time= 1.3min\n"
     ]
    },
    {
     "name": "stderr",
     "output_type": "stream",
     "text": [
      "c:\\Users\\anike\\AppData\\Local\\Programs\\Python\\Python312\\Lib\\site-packages\\sklearn\\linear_model\\_sag.py:350: ConvergenceWarning: The max_iter was reached which means the coef_ did not converge\n",
      "  warnings.warn(\n"
     ]
    },
    {
     "name": "stdout",
     "output_type": "stream",
     "text": [
      "[CV 5/5] END .....C=10, penalty=l1, solver=saga;, score=0.984 total time= 1.3min\n",
      "[CV 1/5] END C=10, penalty=l2, solver=liblinear;, score=0.988 total time= 1.1min\n",
      "[CV 2/5] END C=10, penalty=l2, solver=liblinear;, score=0.988 total time= 1.4min\n",
      "[CV 3/5] END C=10, penalty=l2, solver=liblinear;, score=0.987 total time= 2.6min\n",
      "[CV 4/5] END C=10, penalty=l2, solver=liblinear;, score=0.988 total time= 1.6min\n",
      "[CV 5/5] END C=10, penalty=l2, solver=liblinear;, score=0.987 total time= 1.5min\n"
     ]
    },
    {
     "name": "stderr",
     "output_type": "stream",
     "text": [
      "c:\\Users\\anike\\AppData\\Local\\Programs\\Python\\Python312\\Lib\\site-packages\\sklearn\\linear_model\\_sag.py:350: ConvergenceWarning: The max_iter was reached which means the coef_ did not converge\n",
      "  warnings.warn(\n"
     ]
    },
    {
     "name": "stdout",
     "output_type": "stream",
     "text": [
      "[CV 1/5] END .....C=10, penalty=l2, solver=saga;, score=0.985 total time=  58.2s\n"
     ]
    },
    {
     "name": "stderr",
     "output_type": "stream",
     "text": [
      "c:\\Users\\anike\\AppData\\Local\\Programs\\Python\\Python312\\Lib\\site-packages\\sklearn\\linear_model\\_sag.py:350: ConvergenceWarning: The max_iter was reached which means the coef_ did not converge\n",
      "  warnings.warn(\n"
     ]
    },
    {
     "name": "stdout",
     "output_type": "stream",
     "text": [
      "[CV 2/5] END .....C=10, penalty=l2, solver=saga;, score=0.985 total time=  57.9s\n"
     ]
    },
    {
     "name": "stderr",
     "output_type": "stream",
     "text": [
      "c:\\Users\\anike\\AppData\\Local\\Programs\\Python\\Python312\\Lib\\site-packages\\sklearn\\linear_model\\_sag.py:350: ConvergenceWarning: The max_iter was reached which means the coef_ did not converge\n",
      "  warnings.warn(\n"
     ]
    },
    {
     "name": "stdout",
     "output_type": "stream",
     "text": [
      "[CV 3/5] END .....C=10, penalty=l2, solver=saga;, score=0.983 total time=  57.7s\n"
     ]
    },
    {
     "name": "stderr",
     "output_type": "stream",
     "text": [
      "c:\\Users\\anike\\AppData\\Local\\Programs\\Python\\Python312\\Lib\\site-packages\\sklearn\\linear_model\\_sag.py:350: ConvergenceWarning: The max_iter was reached which means the coef_ did not converge\n",
      "  warnings.warn(\n"
     ]
    },
    {
     "name": "stdout",
     "output_type": "stream",
     "text": [
      "[CV 4/5] END .....C=10, penalty=l2, solver=saga;, score=0.984 total time=  58.6s\n"
     ]
    },
    {
     "name": "stderr",
     "output_type": "stream",
     "text": [
      "c:\\Users\\anike\\AppData\\Local\\Programs\\Python\\Python312\\Lib\\site-packages\\sklearn\\linear_model\\_sag.py:350: ConvergenceWarning: The max_iter was reached which means the coef_ did not converge\n",
      "  warnings.warn(\n"
     ]
    },
    {
     "name": "stdout",
     "output_type": "stream",
     "text": [
      "[CV 5/5] END .....C=10, penalty=l2, solver=saga;, score=0.984 total time=  57.9s\n",
      "[CV 1/5] END C=100, penalty=l1, solver=liblinear;, score=0.988 total time=  11.8s\n",
      "[CV 2/5] END C=100, penalty=l1, solver=liblinear;, score=0.989 total time=  19.1s\n",
      "[CV 3/5] END C=100, penalty=l1, solver=liblinear;, score=0.987 total time=  16.1s\n",
      "[CV 4/5] END C=100, penalty=l1, solver=liblinear;, score=0.987 total time=  16.4s\n",
      "[CV 5/5] END C=100, penalty=l1, solver=liblinear;, score=0.988 total time=  14.0s\n"
     ]
    },
    {
     "name": "stderr",
     "output_type": "stream",
     "text": [
      "c:\\Users\\anike\\AppData\\Local\\Programs\\Python\\Python312\\Lib\\site-packages\\sklearn\\linear_model\\_sag.py:350: ConvergenceWarning: The max_iter was reached which means the coef_ did not converge\n",
      "  warnings.warn(\n"
     ]
    },
    {
     "name": "stdout",
     "output_type": "stream",
     "text": [
      "[CV 1/5] END ....C=100, penalty=l1, solver=saga;, score=0.985 total time= 1.3min\n"
     ]
    },
    {
     "name": "stderr",
     "output_type": "stream",
     "text": [
      "c:\\Users\\anike\\AppData\\Local\\Programs\\Python\\Python312\\Lib\\site-packages\\sklearn\\linear_model\\_sag.py:350: ConvergenceWarning: The max_iter was reached which means the coef_ did not converge\n",
      "  warnings.warn(\n"
     ]
    },
    {
     "name": "stdout",
     "output_type": "stream",
     "text": [
      "[CV 2/5] END ....C=100, penalty=l1, solver=saga;, score=0.985 total time= 1.3min\n"
     ]
    },
    {
     "name": "stderr",
     "output_type": "stream",
     "text": [
      "c:\\Users\\anike\\AppData\\Local\\Programs\\Python\\Python312\\Lib\\site-packages\\sklearn\\linear_model\\_sag.py:350: ConvergenceWarning: The max_iter was reached which means the coef_ did not converge\n",
      "  warnings.warn(\n"
     ]
    },
    {
     "name": "stdout",
     "output_type": "stream",
     "text": [
      "[CV 3/5] END ....C=100, penalty=l1, solver=saga;, score=0.983 total time= 1.3min\n"
     ]
    },
    {
     "name": "stderr",
     "output_type": "stream",
     "text": [
      "c:\\Users\\anike\\AppData\\Local\\Programs\\Python\\Python312\\Lib\\site-packages\\sklearn\\linear_model\\_sag.py:350: ConvergenceWarning: The max_iter was reached which means the coef_ did not converge\n",
      "  warnings.warn(\n"
     ]
    },
    {
     "name": "stdout",
     "output_type": "stream",
     "text": [
      "[CV 4/5] END ....C=100, penalty=l1, solver=saga;, score=0.984 total time= 1.3min\n"
     ]
    },
    {
     "name": "stderr",
     "output_type": "stream",
     "text": [
      "c:\\Users\\anike\\AppData\\Local\\Programs\\Python\\Python312\\Lib\\site-packages\\sklearn\\linear_model\\_sag.py:350: ConvergenceWarning: The max_iter was reached which means the coef_ did not converge\n",
      "  warnings.warn(\n"
     ]
    },
    {
     "name": "stdout",
     "output_type": "stream",
     "text": [
      "[CV 5/5] END ....C=100, penalty=l1, solver=saga;, score=0.984 total time= 1.3min\n",
      "[CV 1/5] END C=100, penalty=l2, solver=liblinear;, score=0.987 total time= 2.8min\n",
      "[CV 2/5] END C=100, penalty=l2, solver=liblinear;, score=0.988 total time= 4.3min\n",
      "[CV 3/5] END C=100, penalty=l2, solver=liblinear;, score=0.987 total time= 1.1min\n",
      "[CV 4/5] END C=100, penalty=l2, solver=liblinear;, score=0.988 total time= 1.5min\n",
      "[CV 5/5] END C=100, penalty=l2, solver=liblinear;, score=0.987 total time= 3.1min\n"
     ]
    },
    {
     "name": "stderr",
     "output_type": "stream",
     "text": [
      "c:\\Users\\anike\\AppData\\Local\\Programs\\Python\\Python312\\Lib\\site-packages\\sklearn\\linear_model\\_sag.py:350: ConvergenceWarning: The max_iter was reached which means the coef_ did not converge\n",
      "  warnings.warn(\n"
     ]
    },
    {
     "name": "stdout",
     "output_type": "stream",
     "text": [
      "[CV 1/5] END ....C=100, penalty=l2, solver=saga;, score=0.985 total time=  58.4s\n"
     ]
    },
    {
     "name": "stderr",
     "output_type": "stream",
     "text": [
      "c:\\Users\\anike\\AppData\\Local\\Programs\\Python\\Python312\\Lib\\site-packages\\sklearn\\linear_model\\_sag.py:350: ConvergenceWarning: The max_iter was reached which means the coef_ did not converge\n",
      "  warnings.warn(\n"
     ]
    },
    {
     "name": "stdout",
     "output_type": "stream",
     "text": [
      "[CV 2/5] END ....C=100, penalty=l2, solver=saga;, score=0.985 total time=  58.4s\n"
     ]
    },
    {
     "name": "stderr",
     "output_type": "stream",
     "text": [
      "c:\\Users\\anike\\AppData\\Local\\Programs\\Python\\Python312\\Lib\\site-packages\\sklearn\\linear_model\\_sag.py:350: ConvergenceWarning: The max_iter was reached which means the coef_ did not converge\n",
      "  warnings.warn(\n"
     ]
    },
    {
     "name": "stdout",
     "output_type": "stream",
     "text": [
      "[CV 3/5] END ....C=100, penalty=l2, solver=saga;, score=0.983 total time=  57.7s\n"
     ]
    },
    {
     "name": "stderr",
     "output_type": "stream",
     "text": [
      "c:\\Users\\anike\\AppData\\Local\\Programs\\Python\\Python312\\Lib\\site-packages\\sklearn\\linear_model\\_sag.py:350: ConvergenceWarning: The max_iter was reached which means the coef_ did not converge\n",
      "  warnings.warn(\n"
     ]
    },
    {
     "name": "stdout",
     "output_type": "stream",
     "text": [
      "[CV 4/5] END ....C=100, penalty=l2, solver=saga;, score=0.984 total time=  57.6s\n"
     ]
    },
    {
     "name": "stderr",
     "output_type": "stream",
     "text": [
      "c:\\Users\\anike\\AppData\\Local\\Programs\\Python\\Python312\\Lib\\site-packages\\sklearn\\linear_model\\_sag.py:350: ConvergenceWarning: The max_iter was reached which means the coef_ did not converge\n",
      "  warnings.warn(\n"
     ]
    },
    {
     "name": "stdout",
     "output_type": "stream",
     "text": [
      "[CV 5/5] END ....C=100, penalty=l2, solver=saga;, score=0.984 total time=  57.3s\n",
      "[CV 1/5] END C=1000, penalty=l1, solver=liblinear;, score=0.988 total time=  13.1s\n",
      "[CV 2/5] END C=1000, penalty=l1, solver=liblinear;, score=0.989 total time=  19.1s\n",
      "[CV 3/5] END C=1000, penalty=l1, solver=liblinear;, score=0.987 total time=  16.3s\n",
      "[CV 4/5] END C=1000, penalty=l1, solver=liblinear;, score=0.987 total time=  16.3s\n",
      "[CV 5/5] END C=1000, penalty=l1, solver=liblinear;, score=0.988 total time=  15.1s\n"
     ]
    },
    {
     "name": "stderr",
     "output_type": "stream",
     "text": [
      "c:\\Users\\anike\\AppData\\Local\\Programs\\Python\\Python312\\Lib\\site-packages\\sklearn\\linear_model\\_sag.py:350: ConvergenceWarning: The max_iter was reached which means the coef_ did not converge\n",
      "  warnings.warn(\n"
     ]
    },
    {
     "name": "stdout",
     "output_type": "stream",
     "text": [
      "[CV 1/5] END ...C=1000, penalty=l1, solver=saga;, score=0.985 total time= 1.3min\n"
     ]
    },
    {
     "name": "stderr",
     "output_type": "stream",
     "text": [
      "c:\\Users\\anike\\AppData\\Local\\Programs\\Python\\Python312\\Lib\\site-packages\\sklearn\\linear_model\\_sag.py:350: ConvergenceWarning: The max_iter was reached which means the coef_ did not converge\n",
      "  warnings.warn(\n"
     ]
    },
    {
     "name": "stdout",
     "output_type": "stream",
     "text": [
      "[CV 2/5] END ...C=1000, penalty=l1, solver=saga;, score=0.985 total time= 1.3min\n"
     ]
    },
    {
     "name": "stderr",
     "output_type": "stream",
     "text": [
      "c:\\Users\\anike\\AppData\\Local\\Programs\\Python\\Python312\\Lib\\site-packages\\sklearn\\linear_model\\_sag.py:350: ConvergenceWarning: The max_iter was reached which means the coef_ did not converge\n",
      "  warnings.warn(\n"
     ]
    },
    {
     "name": "stdout",
     "output_type": "stream",
     "text": [
      "[CV 3/5] END ...C=1000, penalty=l1, solver=saga;, score=0.983 total time= 1.3min\n"
     ]
    },
    {
     "name": "stderr",
     "output_type": "stream",
     "text": [
      "c:\\Users\\anike\\AppData\\Local\\Programs\\Python\\Python312\\Lib\\site-packages\\sklearn\\linear_model\\_sag.py:350: ConvergenceWarning: The max_iter was reached which means the coef_ did not converge\n",
      "  warnings.warn(\n"
     ]
    },
    {
     "name": "stdout",
     "output_type": "stream",
     "text": [
      "[CV 4/5] END ...C=1000, penalty=l1, solver=saga;, score=0.984 total time= 1.3min\n"
     ]
    },
    {
     "name": "stderr",
     "output_type": "stream",
     "text": [
      "c:\\Users\\anike\\AppData\\Local\\Programs\\Python\\Python312\\Lib\\site-packages\\sklearn\\linear_model\\_sag.py:350: ConvergenceWarning: The max_iter was reached which means the coef_ did not converge\n",
      "  warnings.warn(\n"
     ]
    },
    {
     "name": "stdout",
     "output_type": "stream",
     "text": [
      "[CV 5/5] END ...C=1000, penalty=l1, solver=saga;, score=0.984 total time= 1.3min\n",
      "[CV 1/5] END C=1000, penalty=l2, solver=liblinear;, score=0.988 total time= 1.3min\n",
      "[CV 2/5] END C=1000, penalty=l2, solver=liblinear;, score=0.988 total time= 1.6min\n",
      "[CV 3/5] END C=1000, penalty=l2, solver=liblinear;, score=0.987 total time= 1.5min\n",
      "[CV 4/5] END C=1000, penalty=l2, solver=liblinear;, score=0.987 total time= 1.2min\n",
      "[CV 5/5] END C=1000, penalty=l2, solver=liblinear;, score=0.987 total time= 3.2min\n"
     ]
    },
    {
     "name": "stderr",
     "output_type": "stream",
     "text": [
      "c:\\Users\\anike\\AppData\\Local\\Programs\\Python\\Python312\\Lib\\site-packages\\sklearn\\linear_model\\_sag.py:350: ConvergenceWarning: The max_iter was reached which means the coef_ did not converge\n",
      "  warnings.warn(\n"
     ]
    },
    {
     "name": "stdout",
     "output_type": "stream",
     "text": [
      "[CV 1/5] END ...C=1000, penalty=l2, solver=saga;, score=0.985 total time=  57.5s\n"
     ]
    },
    {
     "name": "stderr",
     "output_type": "stream",
     "text": [
      "c:\\Users\\anike\\AppData\\Local\\Programs\\Python\\Python312\\Lib\\site-packages\\sklearn\\linear_model\\_sag.py:350: ConvergenceWarning: The max_iter was reached which means the coef_ did not converge\n",
      "  warnings.warn(\n"
     ]
    },
    {
     "name": "stdout",
     "output_type": "stream",
     "text": [
      "[CV 2/5] END ...C=1000, penalty=l2, solver=saga;, score=0.985 total time=  58.3s\n"
     ]
    },
    {
     "name": "stderr",
     "output_type": "stream",
     "text": [
      "c:\\Users\\anike\\AppData\\Local\\Programs\\Python\\Python312\\Lib\\site-packages\\sklearn\\linear_model\\_sag.py:350: ConvergenceWarning: The max_iter was reached which means the coef_ did not converge\n",
      "  warnings.warn(\n"
     ]
    },
    {
     "name": "stdout",
     "output_type": "stream",
     "text": [
      "[CV 3/5] END ...C=1000, penalty=l2, solver=saga;, score=0.983 total time=  57.4s\n"
     ]
    },
    {
     "name": "stderr",
     "output_type": "stream",
     "text": [
      "c:\\Users\\anike\\AppData\\Local\\Programs\\Python\\Python312\\Lib\\site-packages\\sklearn\\linear_model\\_sag.py:350: ConvergenceWarning: The max_iter was reached which means the coef_ did not converge\n",
      "  warnings.warn(\n"
     ]
    },
    {
     "name": "stdout",
     "output_type": "stream",
     "text": [
      "[CV 4/5] END ...C=1000, penalty=l2, solver=saga;, score=0.984 total time=  58.3s\n"
     ]
    },
    {
     "name": "stderr",
     "output_type": "stream",
     "text": [
      "c:\\Users\\anike\\AppData\\Local\\Programs\\Python\\Python312\\Lib\\site-packages\\sklearn\\linear_model\\_sag.py:350: ConvergenceWarning: The max_iter was reached which means the coef_ did not converge\n",
      "  warnings.warn(\n"
     ]
    },
    {
     "name": "stdout",
     "output_type": "stream",
     "text": [
      "[CV 5/5] END ...C=1000, penalty=l2, solver=saga;, score=0.984 total time=  58.7s\n",
      "Best parameters for LogisticRegression: {'C': 0.1, 'penalty': 'l1', 'solver': 'liblinear'}\n",
      "[[11741    47]\n",
      " [  119    93]]\n",
      "              precision    recall  f1-score   support\n",
      "\n",
      "           0       0.99      1.00      0.99     11788\n",
      "           1       0.66      0.44      0.53       212\n",
      "\n",
      "    accuracy                           0.99     12000\n",
      "   macro avg       0.83      0.72      0.76     12000\n",
      "weighted avg       0.98      0.99      0.98     12000\n",
      "\n"
     ]
    },
    {
     "data": {
      "image/png": "[encoded data removed]",
      "text/plain": [
       "<Figure size 1000x700 with 2 Axes>"
      ]
     },
     "metadata": {},
     "output_type": "display_data"
    }
   ],
   "source": [
    "# Logistic Regression\n",
    "logreg_params = {'C': [0.1, 1, 10, 100, 1000], 'penalty': ['l1', 'l2'], 'solver': ['liblinear', 'saga']}\n",
    "logreg_grid, logreg_best_params = grid_search(X_train, y_train, X_test, y_test, LogisticRegression(max_iter=1000), logreg_params)\n",
    "best_params['LogisticRegression'] = logreg_best_params"
   ]
  },
  {
   "cell_type": "markdown",
   "metadata": {},
   "source": [
    "### Decision Trees"
   ]
  },
  {
   "cell_type": "code",
   "execution_count": 9,
   "metadata": {},
   "outputs": [
    {
     "name": "stdout",
     "output_type": "stream",
     "text": [
      "Fitting 5 folds for each of 25 candidates, totalling 125 fits\n",
      "[CV 1/5] END ...max_depth=3, min_samples_leaf=1;, score=0.987 total time=   1.1s\n",
      "[CV 2/5] END ...max_depth=3, min_samples_leaf=1;, score=0.986 total time=   1.0s\n",
      "[CV 3/5] END ...max_depth=3, min_samples_leaf=1;, score=0.987 total time=   1.1s\n",
      "[CV 4/5] END ...max_depth=3, min_samples_leaf=1;, score=0.986 total time=   1.1s\n",
      "[CV 5/5] END ...max_depth=3, min_samples_leaf=1;, score=0.986 total time=   1.0s\n",
      "[CV 1/5] END ...max_depth=3, min_samples_leaf=2;, score=0.987 total time=   1.0s\n",
      "[CV 2/5] END ...max_depth=3, min_samples_leaf=2;, score=0.986 total time=   1.0s\n",
      "[CV 3/5] END ...max_depth=3, min_samples_leaf=2;, score=0.987 total time=   1.1s\n",
      "[CV 4/5] END ...max_depth=3, min_samples_leaf=2;, score=0.986 total time=   1.0s\n",
      "[CV 5/5] END ...max_depth=3, min_samples_leaf=2;, score=0.986 total time=   1.0s\n",
      "[CV 1/5] END ...max_depth=3, min_samples_leaf=3;, score=0.987 total time=   1.0s\n",
      "[CV 2/5] END ...max_depth=3, min_samples_leaf=3;, score=0.986 total time=   1.1s\n",
      "[CV 3/5] END ...max_depth=3, min_samples_leaf=3;, score=0.987 total time=   1.0s\n",
      "[CV 4/5] END ...max_depth=3, min_samples_leaf=3;, score=0.986 total time=   1.0s\n",
      "[CV 5/5] END ...max_depth=3, min_samples_leaf=3;, score=0.986 total time=   1.0s\n",
      "[CV 1/5] END ...max_depth=3, min_samples_leaf=4;, score=0.987 total time=   1.0s\n",
      "[CV 2/5] END ...max_depth=3, min_samples_leaf=4;, score=0.986 total time=   1.0s\n",
      "[CV 3/5] END ...max_depth=3, min_samples_leaf=4;, score=0.987 total time=   1.1s\n",
      "[CV 4/5] END ...max_depth=3, min_samples_leaf=4;, score=0.986 total time=   1.1s\n",
      "[CV 5/5] END ...max_depth=3, min_samples_leaf=4;, score=0.986 total time=   1.0s\n",
      "[CV 1/5] END ...max_depth=3, min_samples_leaf=5;, score=0.987 total time=   1.1s\n",
      "[CV 2/5] END ...max_depth=3, min_samples_leaf=5;, score=0.986 total time=   1.0s\n",
      "[CV 3/5] END ...max_depth=3, min_samples_leaf=5;, score=0.987 total time=   1.0s\n",
      "[CV 4/5] END ...max_depth=3, min_samples_leaf=5;, score=0.986 total time=   1.0s\n",
      "[CV 5/5] END ...max_depth=3, min_samples_leaf=5;, score=0.986 total time=   1.0s\n",
      "[CV 1/5] END ...max_depth=5, min_samples_leaf=1;, score=0.990 total time=   1.8s\n",
      "[CV 2/5] END ...max_depth=5, min_samples_leaf=1;, score=0.988 total time=   1.7s\n",
      "[CV 3/5] END ...max_depth=5, min_samples_leaf=1;, score=0.989 total time=   1.7s\n",
      "[CV 4/5] END ...max_depth=5, min_samples_leaf=1;, score=0.988 total time=   1.7s\n",
      "[CV 5/5] END ...max_depth=5, min_samples_leaf=1;, score=0.988 total time=   1.7s\n",
      "[CV 1/5] END ...max_depth=5, min_samples_leaf=2;, score=0.989 total time=   1.7s\n",
      "[CV 2/5] END ...max_depth=5, min_samples_leaf=2;, score=0.988 total time=   1.7s\n",
      "[CV 3/5] END ...max_depth=5, min_samples_leaf=2;, score=0.989 total time=   1.8s\n",
      "[CV 4/5] END ...max_depth=5, min_samples_leaf=2;, score=0.988 total time=   1.7s\n",
      "[CV 5/5] END ...max_depth=5, min_samples_leaf=2;, score=0.988 total time=   1.8s\n",
      "[CV 1/5] END ...max_depth=5, min_samples_leaf=3;, score=0.989 total time=   1.8s\n",
      "[CV 2/5] END ...max_depth=5, min_samples_leaf=3;, score=0.988 total time=   1.7s\n",
      "[CV 3/5] END ...max_depth=5, min_samples_leaf=3;, score=0.989 total time=   1.8s\n",
      "[CV 4/5] END ...max_depth=5, min_samples_leaf=3;, score=0.988 total time=   1.7s\n",
      "[CV 5/5] END ...max_depth=5, min_samples_leaf=3;, score=0.988 total time=   1.7s\n",
      "[CV 1/5] END ...max_depth=5, min_samples_leaf=4;, score=0.989 total time=   1.7s\n",
      "[CV 2/5] END ...max_depth=5, min_samples_leaf=4;, score=0.989 total time=   1.7s\n",
      "[CV 3/5] END ...max_depth=5, min_samples_leaf=4;, score=0.988 total time=   1.8s\n",
      "[CV 4/5] END ...max_depth=5, min_samples_leaf=4;, score=0.988 total time=   1.8s\n",
      "[CV 5/5] END ...max_depth=5, min_samples_leaf=4;, score=0.988 total time=   1.7s\n",
      "[CV 1/5] END ...max_depth=5, min_samples_leaf=5;, score=0.989 total time=   1.7s\n",
      "[CV 2/5] END ...max_depth=5, min_samples_leaf=5;, score=0.988 total time=   1.7s\n",
      "[CV 3/5] END ...max_depth=5, min_samples_leaf=5;, score=0.989 total time=   1.7s\n",
      "[CV 4/5] END ...max_depth=5, min_samples_leaf=5;, score=0.988 total time=   1.7s\n",
      "[CV 5/5] END ...max_depth=5, min_samples_leaf=5;, score=0.988 total time=   1.7s\n",
      "[CV 1/5] END ...max_depth=7, min_samples_leaf=1;, score=0.990 total time=   2.4s\n",
      "[CV 2/5] END ...max_depth=7, min_samples_leaf=1;, score=0.988 total time=   2.4s\n",
      "[CV 3/5] END ...max_depth=7, min_samples_leaf=1;, score=0.990 total time=   2.4s\n",
      "[CV 4/5] END ...max_depth=7, min_samples_leaf=1;, score=0.988 total time=   2.4s\n",
      "[CV 5/5] END ...max_depth=7, min_samples_leaf=1;, score=0.988 total time=   2.4s\n",
      "[CV 1/5] END ...max_depth=7, min_samples_leaf=2;, score=0.990 total time=   2.5s\n",
      "[CV 2/5] END ...max_depth=7, min_samples_leaf=2;, score=0.988 total time=   2.3s\n",
      "[CV 3/5] END ...max_depth=7, min_samples_leaf=2;, score=0.990 total time=   2.4s\n",
      "[CV 4/5] END ...max_depth=7, min_samples_leaf=2;, score=0.988 total time=   2.3s\n",
      "[CV 5/5] END ...max_depth=7, min_samples_leaf=2;, score=0.988 total time=   2.4s\n",
      "[CV 1/5] END ...max_depth=7, min_samples_leaf=3;, score=0.989 total time=   2.5s\n",
      "[CV 2/5] END ...max_depth=7, min_samples_leaf=3;, score=0.988 total time=   2.4s\n",
      "[CV 3/5] END ...max_depth=7, min_samples_leaf=3;, score=0.990 total time=   2.4s\n",
      "[CV 4/5] END ...max_depth=7, min_samples_leaf=3;, score=0.988 total time=   2.5s\n",
      "[CV 5/5] END ...max_depth=7, min_samples_leaf=3;, score=0.988 total time=   2.5s\n",
      "[CV 1/5] END ...max_depth=7, min_samples_leaf=4;, score=0.990 total time=   2.5s\n",
      "[CV 2/5] END ...max_depth=7, min_samples_leaf=4;, score=0.988 total time=   2.4s\n",
      "[CV 3/5] END ...max_depth=7, min_samples_leaf=4;, score=0.989 total time=   2.5s\n",
      "[CV 4/5] END ...max_depth=7, min_samples_leaf=4;, score=0.988 total time=   2.4s\n",
      "[CV 5/5] END ...max_depth=7, min_samples_leaf=4;, score=0.988 total time=   2.6s\n",
      "[CV 1/5] END ...max_depth=7, min_samples_leaf=5;, score=0.990 total time=   2.5s\n",
      "[CV 2/5] END ...max_depth=7, min_samples_leaf=5;, score=0.987 total time=   2.5s\n",
      "[CV 3/5] END ...max_depth=7, min_samples_leaf=5;, score=0.990 total time=   2.3s\n",
      "[CV 4/5] END ...max_depth=7, min_samples_leaf=5;, score=0.988 total time=   2.5s\n",
      "[CV 5/5] END ...max_depth=7, min_samples_leaf=5;, score=0.988 total time=   2.4s\n",
      "[CV 1/5] END ...max_depth=9, min_samples_leaf=1;, score=0.990 total time=   3.1s\n",
      "[CV 2/5] END ...max_depth=9, min_samples_leaf=1;, score=0.988 total time=   3.1s\n",
      "[CV 3/5] END ...max_depth=9, min_samples_leaf=1;, score=0.990 total time=   3.0s\n",
      "[CV 4/5] END ...max_depth=9, min_samples_leaf=1;, score=0.988 total time=   3.1s\n",
      "[CV 5/5] END ...max_depth=9, min_samples_leaf=1;, score=0.987 total time=   3.1s\n",
      "[CV 1/5] END ...max_depth=9, min_samples_leaf=2;, score=0.989 total time=   3.1s\n",
      "[CV 2/5] END ...max_depth=9, min_samples_leaf=2;, score=0.988 total time=   3.0s\n",
      "[CV 3/5] END ...max_depth=9, min_samples_leaf=2;, score=0.990 total time=   3.1s\n",
      "[CV 4/5] END ...max_depth=9, min_samples_leaf=2;, score=0.988 total time=   3.1s\n",
      "[CV 5/5] END ...max_depth=9, min_samples_leaf=2;, score=0.988 total time=   3.1s\n",
      "[CV 1/5] END ...max_depth=9, min_samples_leaf=3;, score=0.988 total time=   3.2s\n",
      "[CV 2/5] END ...max_depth=9, min_samples_leaf=3;, score=0.987 total time=   3.1s\n",
      "[CV 3/5] END ...max_depth=9, min_samples_leaf=3;, score=0.990 total time=   2.9s\n",
      "[CV 4/5] END ...max_depth=9, min_samples_leaf=3;, score=0.988 total time=   3.1s\n",
      "[CV 5/5] END ...max_depth=9, min_samples_leaf=3;, score=0.987 total time=   3.1s\n",
      "[CV 1/5] END ...max_depth=9, min_samples_leaf=4;, score=0.989 total time=   3.1s\n",
      "[CV 2/5] END ...max_depth=9, min_samples_leaf=4;, score=0.987 total time=   3.0s\n",
      "[CV 3/5] END ...max_depth=9, min_samples_leaf=4;, score=0.989 total time=   3.0s\n",
      "[CV 4/5] END ...max_depth=9, min_samples_leaf=4;, score=0.988 total time=   3.2s\n",
      "[CV 5/5] END ...max_depth=9, min_samples_leaf=4;, score=0.988 total time=   3.0s\n",
      "[CV 1/5] END ...max_depth=9, min_samples_leaf=5;, score=0.990 total time=   3.1s\n",
      "[CV 2/5] END ...max_depth=9, min_samples_leaf=5;, score=0.986 total time=   3.1s\n",
      "[CV 3/5] END ...max_depth=9, min_samples_leaf=5;, score=0.989 total time=   3.0s\n",
      "[CV 4/5] END ...max_depth=9, min_samples_leaf=5;, score=0.988 total time=   3.0s\n",
      "[CV 5/5] END ...max_depth=9, min_samples_leaf=5;, score=0.989 total time=   3.0s\n",
      "[CV 1/5] END ..max_depth=11, min_samples_leaf=1;, score=0.990 total time=   3.7s\n",
      "[CV 2/5] END ..max_depth=11, min_samples_leaf=1;, score=0.987 total time=   3.7s\n",
      "[CV 3/5] END ..max_depth=11, min_samples_leaf=1;, score=0.988 total time=   3.7s\n",
      "[CV 4/5] END ..max_depth=11, min_samples_leaf=1;, score=0.988 total time=   3.7s\n",
      "[CV 5/5] END ..max_depth=11, min_samples_leaf=1;, score=0.986 total time=   3.8s\n",
      "[CV 1/5] END ..max_depth=11, min_samples_leaf=2;, score=0.989 total time=   3.8s\n",
      "[CV 2/5] END ..max_depth=11, min_samples_leaf=2;, score=0.988 total time=   3.7s\n",
      "[CV 3/5] END ..max_depth=11, min_samples_leaf=2;, score=0.989 total time=   3.7s\n",
      "[CV 4/5] END ..max_depth=11, min_samples_leaf=2;, score=0.989 total time=   3.7s\n",
      "[CV 5/5] END ..max_depth=11, min_samples_leaf=2;, score=0.987 total time=   3.7s\n",
      "[CV 1/5] END ..max_depth=11, min_samples_leaf=3;, score=0.988 total time=   3.7s\n",
      "[CV 2/5] END ..max_depth=11, min_samples_leaf=3;, score=0.988 total time=   3.8s\n",
      "[CV 3/5] END ..max_depth=11, min_samples_leaf=3;, score=0.990 total time=   3.6s\n",
      "[CV 4/5] END ..max_depth=11, min_samples_leaf=3;, score=0.988 total time=   3.7s\n",
      "[CV 5/5] END ..max_depth=11, min_samples_leaf=3;, score=0.988 total time=   3.6s\n",
      "[CV 1/5] END ..max_depth=11, min_samples_leaf=4;, score=0.989 total time=   3.7s\n",
      "[CV 2/5] END ..max_depth=11, min_samples_leaf=4;, score=0.988 total time=   3.8s\n",
      "[CV 3/5] END ..max_depth=11, min_samples_leaf=4;, score=0.989 total time=   3.7s\n",
      "[CV 4/5] END ..max_depth=11, min_samples_leaf=4;, score=0.988 total time=   3.7s\n",
      "[CV 5/5] END ..max_depth=11, min_samples_leaf=4;, score=0.988 total time=   3.7s\n",
      "[CV 1/5] END ..max_depth=11, min_samples_leaf=5;, score=0.990 total time=   3.7s\n",
      "[CV 2/5] END ..max_depth=11, min_samples_leaf=5;, score=0.986 total time=   3.7s\n",
      "[CV 3/5] END ..max_depth=11, min_samples_leaf=5;, score=0.989 total time=   3.7s\n",
      "[CV 4/5] END ..max_depth=11, min_samples_leaf=5;, score=0.988 total time=   3.6s\n",
      "[CV 5/5] END ..max_depth=11, min_samples_leaf=5;, score=0.989 total time=   3.7s\n",
      "Best parameters for DecisionTreeClassifier: {'max_depth': 7, 'min_samples_leaf': 1}\n",
      "[[11744    44]\n",
      " [  127    85]]\n",
      "              precision    recall  f1-score   support\n",
      "\n",
      "           0       0.99      1.00      0.99     11788\n",
      "           1       0.66      0.40      0.50       212\n",
      "\n",
      "    accuracy                           0.99     12000\n",
      "   macro avg       0.82      0.70      0.75     12000\n",
      "weighted avg       0.98      0.99      0.98     12000\n",
      "\n"
     ]
    },
    {
     "data": {
      "image/png": "[encoded data removed]",
      "text/plain": [
       "<Figure size 1000x700 with 2 Axes>"
      ]
     },
     "metadata": {},
     "output_type": "display_data"
    }
   ],
   "source": [
    "# Decision Tree\n",
    "dt_params = {'max_depth': [3, 5, 7, 9, 11], 'min_samples_leaf': [1, 2, 3, 4, 5]}\n",
    "dt_grid, dt_best_params = grid_search(X_train, y_train, X_test, y_test, DecisionTreeClassifier(), dt_params)\n",
    "best_params['DecisionTree'] = dt_best_params"
   ]
  },
  {
   "cell_type": "markdown",
   "metadata": {},
   "source": [
    "### Best Parameters"
   ]
  },
  {
   "cell_type": "code",
   "execution_count": 16,
   "metadata": {},
   "outputs": [
    {
     "name": "stdout",
     "output_type": "stream",
     "text": [
      "Best parameters for each model:\n",
      "SVC: {'C': 100, 'kernel': 'rbf'}\n",
      "LogisticRegression: {'C': 0.1, 'penalty': 'l1', 'solver': 'liblinear'}\n",
      "DecisionTree: {'max_depth': 7, 'min_samples_leaf': 1}\n"
     ]
    }
   ],
   "source": [
    "# Print best parameters for each model\n",
    "print(\"Best parameters for each model:\")\n",
    "for model_name, params in best_params.items():\n",
    "    print(f\"{model_name}: {params}\")"
   ]
  },
  {
   "cell_type": "markdown",
   "metadata": {},
   "source": [
    "### Best Params results"
   ]
  },
  {
   "cell_type": "code",
   "execution_count": 15,
   "metadata": {},
   "outputs": [],
   "source": [
    "best_params = {\n",
    "    'SVC': {'C': 100, 'kernel': 'rbf'},\n",
    "    'LogisticRegression': {'C': 0.1, 'penalty': 'l1', 'solver': 'liblinear'},\n",
    "    'DecisionTree': {'max_depth': 7, 'min_samples_leaf': 1}\n",
    "}"
   ]
  },
  {
   "cell_type": "markdown",
   "metadata": {},
   "source": [
    "## TASK 2"
   ]
  },
  {
   "cell_type": "markdown",
   "metadata": {},
   "source": [
    "### Sampling"
   ]
  },
  {
   "cell_type": "markdown",
   "metadata": {},
   "source": [
    "#### Random over sampler"
   ]
  },
  {
   "cell_type": "code",
   "execution_count": 8,
   "metadata": {},
   "outputs": [
    {
     "name": "stdout",
     "output_type": "stream",
     "text": [
      "label\n",
      "0    59000\n",
      "1    59000\n",
      "Name: count, dtype: int64\n"
     ]
    },
    {
     "data": {
      "image/png": "[encoded data removed]",
      "text/plain": [
       "<Figure size 640x480 with 1 Axes>"
      ]
     },
     "metadata": {},
     "output_type": "display_data"
    }
   ],
   "source": [
    "# Apply Random Oversampling to the entire dataset\n",
    "oversampler = RandomOverSampler(sampling_strategy='minority', random_state=42)\n",
    "X_oversampled, y_oversampled = oversampler.fit_resample(X, y)\n",
    "\n",
    "\n",
    "# Split the resampled data into training and testing sets\n",
    "X_train_resampled, X_test_resampled, y_train_resampled, y_test_resampled = train_test_split(X_oversampled, y_oversampled, test_size=0.2, random_state=42)\n",
    "\n",
    "# Combine the Resampled Data into a DataFrame for checking distribution\n",
    "df_oversampled = pd.DataFrame(X_oversampled, columns=[f'feature_{i}' for i in range(X_oversampled.shape[1])])\n",
    "df_oversampled['label'] = y_oversampled\n",
    "\n",
    "# Check the distribution of the new dataset\n",
    "print(df_oversampled['label'].value_counts())\n",
    "\n",
    "# Plot a pie chart of the distribution\n",
    "df_oversampled['label'].value_counts().plot.pie(autopct='%1.1f%%', startangle=90, cmap='viridis')\n",
    "plt.ylabel('')\n",
    "plt.title('Distribution of Resampled Data')\n",
    "plt.show()"
   ]
  },
  {
   "cell_type": "code",
   "execution_count": 9,
   "metadata": {},
   "outputs": [
    {
     "name": "stdout",
     "output_type": "stream",
     "text": [
      "Best parameters for SVC: {'C': 100, 'kernel': 'rbf'}\n",
      "[[11724   228]\n",
      " [    8 11640]]\n",
      "              precision    recall  f1-score   support\n",
      "\n",
      "           0       1.00      0.98      0.99     11952\n",
      "           1       0.98      1.00      0.99     11648\n",
      "\n",
      "    accuracy                           0.99     23600\n",
      "   macro avg       0.99      0.99      0.99     23600\n",
      "weighted avg       0.99      0.99      0.99     23600\n",
      "\n",
      "Best parameters for Logistic Regression: {'C': 0.1, 'penalty': 'l1', 'solver': 'liblinear'}\n",
      "[[11425   527]\n",
      " [  424 11224]]\n",
      "              precision    recall  f1-score   support\n",
      "\n",
      "           0       0.96      0.96      0.96     11952\n",
      "           1       0.96      0.96      0.96     11648\n",
      "\n",
      "    accuracy                           0.96     23600\n",
      "   macro avg       0.96      0.96      0.96     23600\n",
      "weighted avg       0.96      0.96      0.96     23600\n",
      "\n",
      "Best parameters for Decision Tree: {'max_depth': 7, 'min_samples_leaf': 1}\n",
      "[[11580   372]\n",
      " [  230 11418]]\n",
      "              precision    recall  f1-score   support\n",
      "\n",
      "           0       0.98      0.97      0.97     11952\n",
      "           1       0.97      0.98      0.97     11648\n",
      "\n",
      "    accuracy                           0.97     23600\n",
      "   macro avg       0.97      0.97      0.97     23600\n",
      "weighted avg       0.97      0.97      0.97     23600\n",
      "\n"
     ]
    }
   ],
   "source": [
    "# Perform SVC\n",
    "perform_model(X_train_resampled, y_train_resampled, X_test_resampled, y_test_resampled, SVC(), model_name=\"SVC\", verbose=True, **best_params['SVC'])\n",
    "\n",
    "# Perform Logistic Regression\n",
    "perform_model(X_train_resampled, y_train_resampled, X_test_resampled, y_test_resampled, LogisticRegression(max_iter=1000), model_name=\"Logistic Regression\", verbose=True, **best_params['LogisticRegression'])\n",
    "\n",
    "# Perform Decision Tree\n",
    "perform_model(X_train_resampled, y_train_resampled, X_test_resampled, y_test_resampled, DecisionTreeClassifier(), model_name=\"Decision Tree\", verbose=True, **best_params['DecisionTree'])"
   ]
  },
  {
   "cell_type": "markdown",
   "metadata": {},
   "source": [
    "### Random under Sampler"
   ]
  },
  {
   "cell_type": "code",
   "execution_count": 10,
   "metadata": {},
   "outputs": [
    {
     "name": "stdout",
     "output_type": "stream",
     "text": [
      "label\n",
      "0    1000\n",
      "1    1000\n",
      "Name: count, dtype: int64\n"
     ]
    },
    {
     "data": {
      "image/png": "[encoded data removed]",
      "text/plain": [
       "<Figure size 640x480 with 1 Axes>"
      ]
     },
     "metadata": {},
     "output_type": "display_data"
    }
   ],
   "source": [
    "# Apply Random Undersampling to the oversampled dataset\n",
    "undersampler = RandomUnderSampler(sampling_strategy='majority', random_state=42)\n",
    "X_undersampled, y_undersampled = undersampler.fit_resample(X, y)\n",
    "\n",
    "# Split the resampled data into training and testing sets\n",
    "X_train_resampled, X_test_resampled, y_train_resampled, y_test_resampled = train_test_split(X_undersampled, y_undersampled, test_size=0.2, random_state=42)\n",
    "\n",
    "# Combine the Resampled Data into a DataFrame for checking distribution\n",
    "df_undersampled = pd.DataFrame(X_undersampled, columns=[f'feature_{i}' for i in range(X_undersampled.shape[1])])\n",
    "df_undersampled['label'] = y_undersampled\n",
    "\n",
    "# Check the distribution of the new dataset\n",
    "print(df_undersampled['label'].value_counts())\n",
    "\n",
    "# Plot a pie chart of the distribution\n",
    "df_undersampled['label'].value_counts().plot.pie(autopct='%1.1f%%', startangle=90, cmap='viridis')\n",
    "plt.ylabel('')\n",
    "plt.title('Distribution of Resampled Data')\n",
    "plt.show()"
   ]
  },
  {
   "cell_type": "code",
   "execution_count": 11,
   "metadata": {},
   "outputs": [
    {
     "name": "stdout",
     "output_type": "stream",
     "text": [
      "Best parameters for SVC: {'C': 100, 'kernel': 'rbf'}\n",
      "[[185  14]\n",
      " [ 11 190]]\n",
      "              precision    recall  f1-score   support\n",
      "\n",
      "           0       0.94      0.93      0.94       199\n",
      "           1       0.93      0.95      0.94       201\n",
      "\n",
      "    accuracy                           0.94       400\n",
      "   macro avg       0.94      0.94      0.94       400\n",
      "weighted avg       0.94      0.94      0.94       400\n",
      "\n",
      "Best parameters for Logistic Regression: {'C': 0.1, 'penalty': 'l1', 'solver': 'liblinear'}\n",
      "[[181  18]\n",
      " [ 14 187]]\n",
      "              precision    recall  f1-score   support\n",
      "\n",
      "           0       0.93      0.91      0.92       199\n",
      "           1       0.91      0.93      0.92       201\n",
      "\n",
      "    accuracy                           0.92       400\n",
      "   macro avg       0.92      0.92      0.92       400\n",
      "weighted avg       0.92      0.92      0.92       400\n",
      "\n",
      "Best parameters for Decision Tree: {'max_depth': 7, 'min_samples_leaf': 1}\n",
      "[[188  11]\n",
      " [ 16 185]]\n",
      "              precision    recall  f1-score   support\n",
      "\n",
      "           0       0.92      0.94      0.93       199\n",
      "           1       0.94      0.92      0.93       201\n",
      "\n",
      "    accuracy                           0.93       400\n",
      "   macro avg       0.93      0.93      0.93       400\n",
      "weighted avg       0.93      0.93      0.93       400\n",
      "\n"
     ]
    }
   ],
   "source": [
    "# Perform SVC\n",
    "perform_model(X_train_resampled, y_train_resampled, X_test_resampled, y_test_resampled, SVC(), model_name=\"SVC\", verbose=True, **best_params['SVC'])\n",
    "\n",
    "# Perform Logistic Regression\n",
    "perform_model(X_train_resampled, y_train_resampled, X_test_resampled, y_test_resampled, LogisticRegression(max_iter=1000), model_name=\"Logistic Regression\", verbose=True, **best_params['LogisticRegression'])\n",
    "\n",
    "# Perform Decision Tree\n",
    "perform_model(X_train_resampled, y_train_resampled, X_test_resampled, y_test_resampled, DecisionTreeClassifier(), model_name=\"Decision Tree\", verbose=True, **best_params['DecisionTree'])"
   ]
  },
  {
   "cell_type": "markdown",
   "metadata": {},
   "source": [
    "#### SMOTEENN"
   ]
  },
  {
   "cell_type": "code",
   "execution_count": 12,
   "metadata": {},
   "outputs": [
    {
     "name": "stdout",
     "output_type": "stream",
     "text": [
      "label\n",
      "1    58998\n",
      "0    56127\n",
      "Name: count, dtype: int64\n"
     ]
    },
    {
     "name": "stderr",
     "output_type": "stream",
     "text": [
      "C:\\Users\\anike\\AppData\\Local\\Temp\\ipykernel_12568\\1917121972.py:10: PerformanceWarning: DataFrame is highly fragmented.  This is usually the result of calling `frame.insert` many times, which has poor performance.  Consider joining all columns at once using pd.concat(axis=1) instead. To get a de-fragmented frame, use `newframe = frame.copy()`\n",
      "  df_resampled['label'] = y_resampled\n"
     ]
    },
    {
     "data": {
      "image/png": "[encoded data removed]",
      "text/plain": [
       "<Figure size 640x480 with 1 Axes>"
      ]
     },
     "metadata": {},
     "output_type": "display_data"
    }
   ],
   "source": [
    "# Apply SMOTEENN to the entire dataset\n",
    "smote_enn = SMOTEENN(random_state=42)\n",
    "X_resampled, y_resampled = smote_enn.fit_resample(X, y)\n",
    "\n",
    "# Split the resampled data into training and testing sets\n",
    "X_train_resampled, X_test_resampled, y_train_resampled, y_test_resampled = train_test_split(X_resampled, y_resampled, test_size=0.2, random_state=42)\n",
    "\n",
    "# Combine the Resampled Data into a DataFrame for checking distribution\n",
    "df_resampled = pd.DataFrame(X_resampled, columns=X.columns)\n",
    "df_resampled['label'] = y_resampled\n",
    "\n",
    "# Check the distribution of the new dataset\n",
    "print(df_resampled['label'].value_counts())\n",
    "\n",
    "# Plot a pie chart of the distribution\n",
    "df_resampled['label'].value_counts().plot.pie(autopct='%1.1f%%', startangle=90, cmap='viridis')\n",
    "plt.ylabel('')\n",
    "plt.title('Distribution of Resampled Data')\n",
    "plt.show()"
   ]
  },
  {
   "cell_type": "code",
   "execution_count": 13,
   "metadata": {},
   "outputs": [
    {
     "name": "stdout",
     "output_type": "stream",
     "text": [
      "Best parameters for SVC: {'C': 100, 'kernel': 'rbf'}\n",
      "[[11252    63]\n",
      " [    2 11708]]\n",
      "              precision    recall  f1-score   support\n",
      "\n",
      "           0       1.00      0.99      1.00     11315\n",
      "           1       0.99      1.00      1.00     11710\n",
      "\n",
      "    accuracy                           1.00     23025\n",
      "   macro avg       1.00      1.00      1.00     23025\n",
      "weighted avg       1.00      1.00      1.00     23025\n",
      "\n",
      "Best parameters for Logistic Regression: {'C': 0.1, 'penalty': 'l1', 'solver': 'liblinear'}\n",
      "[[11052   263]\n",
      " [  241 11469]]\n",
      "              precision    recall  f1-score   support\n",
      "\n",
      "           0       0.98      0.98      0.98     11315\n",
      "           1       0.98      0.98      0.98     11710\n",
      "\n",
      "    accuracy                           0.98     23025\n",
      "   macro avg       0.98      0.98      0.98     23025\n",
      "weighted avg       0.98      0.98      0.98     23025\n",
      "\n",
      "Best parameters for Decision Tree: {'max_depth': 7, 'min_samples_leaf': 1}\n",
      "[[11129   186]\n",
      " [   70 11640]]\n",
      "              precision    recall  f1-score   support\n",
      "\n",
      "           0       0.99      0.98      0.99     11315\n",
      "           1       0.98      0.99      0.99     11710\n",
      "\n",
      "    accuracy                           0.99     23025\n",
      "   macro avg       0.99      0.99      0.99     23025\n",
      "weighted avg       0.99      0.99      0.99     23025\n",
      "\n"
     ]
    }
   ],
   "source": [
    "# Perform SVC\n",
    "perform_model(X_train_resampled, y_train_resampled, X_test_resampled, y_test_resampled, SVC(), model_name=\"SVC\", verbose=True, **best_params['SVC'])\n",
    "\n",
    "# Perform Logistic Regression\n",
    "perform_model(X_train_resampled, y_train_resampled, X_test_resampled, y_test_resampled, LogisticRegression(max_iter=1000), model_name=\"Logistic Regression\", verbose=True, **best_params['LogisticRegression'])\n",
    "\n",
    "# Perform Decision Tree\n",
    "perform_model(X_train_resampled, y_train_resampled, X_test_resampled, y_test_resampled, DecisionTreeClassifier(), model_name=\"Decision Tree\", verbose=True, **best_params['DecisionTree'])"
   ]
  },
  {
   "cell_type": "markdown",
   "metadata": {},
   "source": [
    "### Weights"
   ]
  },
  {
   "cell_type": "markdown",
   "metadata": {},
   "source": [
    "#### Class weights"
   ]
  },
  {
   "cell_type": "code",
   "execution_count": 14,
   "metadata": {},
   "outputs": [
    {
     "name": "stdout",
     "output_type": "stream",
     "text": [
      "Best parameters for SVC: {'C': 100, 'kernel': 'rbf', 'class_weight': {0: 0.5083453359315429, 1: 30.456852791878173}}\n",
      "[[11181   134]\n",
      " [    0 11710]]\n",
      "              precision    recall  f1-score   support\n",
      "\n",
      "           0       1.00      0.99      0.99     11315\n",
      "           1       0.99      1.00      0.99     11710\n",
      "\n",
      "    accuracy                           0.99     23025\n",
      "   macro avg       0.99      0.99      0.99     23025\n",
      "weighted avg       0.99      0.99      0.99     23025\n",
      "\n",
      "Best parameters for Logistic Regression: {'C': 0.1, 'penalty': 'l1', 'solver': 'liblinear', 'class_weight': {0: 0.5083453359315429, 1: 30.456852791878173}}\n",
      "[[ 9978  1337]\n",
      " [    0 11710]]\n",
      "              precision    recall  f1-score   support\n",
      "\n",
      "           0       1.00      0.88      0.94     11315\n",
      "           1       0.90      1.00      0.95     11710\n",
      "\n",
      "    accuracy                           0.94     23025\n",
      "   macro avg       0.95      0.94      0.94     23025\n",
      "weighted avg       0.95      0.94      0.94     23025\n",
      "\n",
      "Best parameters for Decision Tree: {'max_depth': 7, 'min_samples_leaf': 1, 'class_weight': {0: 0.5083453359315429, 1: 30.456852791878173}}\n",
      "[[10621   694]\n",
      " [    8 11702]]\n",
      "              precision    recall  f1-score   support\n",
      "\n",
      "           0       1.00      0.94      0.97     11315\n",
      "           1       0.94      1.00      0.97     11710\n",
      "\n",
      "    accuracy                           0.97     23025\n",
      "   macro avg       0.97      0.97      0.97     23025\n",
      "weighted avg       0.97      0.97      0.97     23025\n",
      "\n"
     ]
    }
   ],
   "source": [
    "# Compute class weights\n",
    "class_weights = compute_class_weight(class_weight='balanced', classes=np.unique(y_train), y=y_train)\n",
    "class_weight_dict = {i: class_weights[i] for i in range(len(class_weights))}\n",
    "\n",
    "# Dictionary to store best parameters\n",
    "best_params['SVC']['class_weight'] = class_weight_dict\n",
    "best_params['LogisticRegression']['class_weight'] = class_weight_dict\n",
    "best_params['DecisionTree']['class_weight'] = class_weight_dict\n",
    "\n",
    "# Perform SVC\n",
    "perform_model(X_train_resampled, y_train_resampled, X_test_resampled, y_test_resampled, SVC(), 'SVC', verbose=True, **best_params['SVC'])\n",
    "\n",
    "# Perform Logistic Regression\n",
    "perform_model(X_train_resampled, y_train_resampled, X_test_resampled, y_test_resampled, LogisticRegression(max_iter=1000), 'Logistic Regression', verbose=True, **best_params['LogisticRegression'])\n",
    "\n",
    "# Perform Decision Tree\n",
    "perform_model(X_train_resampled, y_train_resampled, X_test_resampled, y_test_resampled, DecisionTreeClassifier(), 'Decision Tree', verbose=True, **best_params['DecisionTree'])"
   ]
  },
  {
   "cell_type": "markdown",
   "metadata": {},
   "source": [
    "#### Sample weights"
   ]
  },
  {
   "cell_type": "code",
   "execution_count": 15,
   "metadata": {},
   "outputs": [
    {
     "name": "stdout",
     "output_type": "stream",
     "text": [
      "Best parameters for SVC: {'C': 100, 'kernel': 'rbf', 'class_weight': {0: 0.5083453359315429, 1: 30.456852791878173}}\n",
      "[[11181   134]\n",
      " [    0 11710]]\n",
      "              precision    recall  f1-score   support\n",
      "\n",
      "           0       1.00      0.99      0.99     11315\n",
      "           1       0.99      1.00      0.99     11710\n",
      "\n",
      "    accuracy                           0.99     23025\n",
      "   macro avg       0.99      0.99      0.99     23025\n",
      "weighted avg       0.99      0.99      0.99     23025\n",
      "\n",
      "Best parameters for Logistic Regression: {'C': 0.1, 'penalty': 'l1', 'solver': 'liblinear', 'class_weight': {0: 0.5083453359315429, 1: 30.456852791878173}}\n",
      "[[ 9944  1371]\n",
      " [    0 11710]]\n",
      "              precision    recall  f1-score   support\n",
      "\n",
      "           0       1.00      0.88      0.94     11315\n",
      "           1       0.90      1.00      0.94     11710\n",
      "\n",
      "    accuracy                           0.94     23025\n",
      "   macro avg       0.95      0.94      0.94     23025\n",
      "weighted avg       0.95      0.94      0.94     23025\n",
      "\n",
      "Best parameters for Decision Tree: {'max_depth': 7, 'min_samples_leaf': 1, 'class_weight': {0: 0.5083453359315429, 1: 30.456852791878173}}\n",
      "[[10624   691]\n",
      " [    7 11703]]\n",
      "              precision    recall  f1-score   support\n",
      "\n",
      "           0       1.00      0.94      0.97     11315\n",
      "           1       0.94      1.00      0.97     11710\n",
      "\n",
      "    accuracy                           0.97     23025\n",
      "   macro avg       0.97      0.97      0.97     23025\n",
      "weighted avg       0.97      0.97      0.97     23025\n",
      "\n"
     ]
    }
   ],
   "source": [
    "# Compute sample weights\n",
    "sample_weight = np.array([class_weight_dict[cls] for cls in y_train])\n",
    "\n",
    "# Perform SVC\n",
    "perform_model(X_train_resampled, y_train_resampled, X_test_resampled, y_test_resampled, SVC(), 'SVC', verbose=True, **best_params['SVC'])\n",
    "\n",
    "# Perform Logistic Regression\n",
    "perform_model(X_train_resampled, y_train_resampled, X_test_resampled, y_test_resampled, LogisticRegression(max_iter=1000), 'Logistic Regression', verbose=True, **best_params['LogisticRegression'])\n",
    "\n",
    "# Perform Decision Tree\n",
    "perform_model(X_train_resampled, y_train_resampled, X_test_resampled, y_test_resampled, DecisionTreeClassifier(), 'Decision Tree', verbose=True, **best_params['DecisionTree'])"
   ]
  },
  {
   "cell_type": "markdown",
   "metadata": {},
   "source": [
    "### Idiot zone"
   ]
  },
  {
   "cell_type": "code",
   "execution_count": 17,
   "metadata": {},
   "outputs": [
    {
     "name": "stderr",
     "output_type": "stream",
     "text": [
      "c:\\Users\\anike\\AppData\\Local\\Programs\\Python\\Python312\\Lib\\site-packages\\imblearn\\ensemble\\_forest.py:577: FutureWarning: The default of `sampling_strategy` will change from `'auto'` to `'all'` in version 0.13. This change will follow the implementation proposed in the original paper. Set to `'all'` to silence this warning and adopt the future behaviour.\n",
      "  warn(\n",
      "c:\\Users\\anike\\AppData\\Local\\Programs\\Python\\Python312\\Lib\\site-packages\\imblearn\\ensemble\\_forest.py:589: FutureWarning: The default of `replacement` will change from `False` to `True` in version 0.13. This change will follow the implementation proposed in the original paper. Set to `True` to silence this warning and adopt the future behaviour.\n",
      "  warn(\n",
      "c:\\Users\\anike\\AppData\\Local\\Programs\\Python\\Python312\\Lib\\site-packages\\imblearn\\ensemble\\_forest.py:601: FutureWarning: The default of `bootstrap` will change from `True` to `False` in version 0.13. This change will follow the implementation proposed in the original paper. Set to `False` to silence this warning and adopt the future behaviour.\n",
      "  warn(\n"
     ]
    },
    {
     "name": "stdout",
     "output_type": "stream",
     "text": [
      "Balanced Random Forest Confusion Matrix:\n",
      "[[11900    48]\n",
      " [    0 11652]]\n",
      "\n",
      "Balanced Random Forest Classification Report:\n",
      "              precision    recall  f1-score   support\n",
      "\n",
      "           0       1.00      1.00      1.00     11948\n",
      "           1       1.00      1.00      1.00     11652\n",
      "\n",
      "    accuracy                           1.00     23600\n",
      "   macro avg       1.00      1.00      1.00     23600\n",
      "weighted avg       1.00      1.00      1.00     23600\n",
      "\n"
     ]
    },
    {
     "ename": "KeyboardInterrupt",
     "evalue": "",
     "output_type": "error",
     "traceback": [
      "\u001b[1;31m---------------------------------------------------------------------------\u001b[0m",
      "\u001b[1;31mKeyboardInterrupt\u001b[0m                         Traceback (most recent call last)",
      "Cell \u001b[1;32mIn[17], line 25\u001b[0m\n\u001b[0;32m     22\u001b[0m \u001b[38;5;28mprint\u001b[39m(classification_report(y_test_resampled, y_pred_brf))\n\u001b[0;32m     24\u001b[0m \u001b[38;5;66;03m# Train and evaluate Easy Ensemble Classifier\u001b[39;00m\n\u001b[1;32m---> 25\u001b[0m \u001b[43meec\u001b[49m\u001b[38;5;241;43m.\u001b[39;49m\u001b[43mfit\u001b[49m\u001b[43m(\u001b[49m\u001b[43mX_train_resampled\u001b[49m\u001b[43m,\u001b[49m\u001b[43m \u001b[49m\u001b[43my_train_resampled\u001b[49m\u001b[43m)\u001b[49m\n\u001b[0;32m     26\u001b[0m y_pred_eec \u001b[38;5;241m=\u001b[39m eec\u001b[38;5;241m.\u001b[39mpredict(X_test_resampled)\n\u001b[0;32m     27\u001b[0m \u001b[38;5;28mprint\u001b[39m(\u001b[38;5;124m\"\u001b[39m\u001b[38;5;124mEasy Ensemble Classifier Confusion Matrix:\u001b[39m\u001b[38;5;124m\"\u001b[39m)\n",
      "File \u001b[1;32mc:\\Users\\anike\\AppData\\Local\\Programs\\Python\\Python312\\Lib\\site-packages\\sklearn\\base.py:1474\u001b[0m, in \u001b[0;36m_fit_context.<locals>.decorator.<locals>.wrapper\u001b[1;34m(estimator, *args, **kwargs)\u001b[0m\n\u001b[0;32m   1467\u001b[0m     estimator\u001b[38;5;241m.\u001b[39m_validate_params()\n\u001b[0;32m   1469\u001b[0m \u001b[38;5;28;01mwith\u001b[39;00m config_context(\n\u001b[0;32m   1470\u001b[0m     skip_parameter_validation\u001b[38;5;241m=\u001b[39m(\n\u001b[0;32m   1471\u001b[0m         prefer_skip_nested_validation \u001b[38;5;129;01mor\u001b[39;00m global_skip_validation\n\u001b[0;32m   1472\u001b[0m     )\n\u001b[0;32m   1473\u001b[0m ):\n\u001b[1;32m-> 1474\u001b[0m     \u001b[38;5;28;01mreturn\u001b[39;00m \u001b[43mfit_method\u001b[49m\u001b[43m(\u001b[49m\u001b[43mestimator\u001b[49m\u001b[43m,\u001b[49m\u001b[43m \u001b[49m\u001b[38;5;241;43m*\u001b[39;49m\u001b[43margs\u001b[49m\u001b[43m,\u001b[49m\u001b[43m \u001b[49m\u001b[38;5;241;43m*\u001b[39;49m\u001b[38;5;241;43m*\u001b[39;49m\u001b[43mkwargs\u001b[49m\u001b[43m)\u001b[49m\n",
      "File \u001b[1;32mc:\\Users\\anike\\AppData\\Local\\Programs\\Python\\Python312\\Lib\\site-packages\\imblearn\\ensemble\\_easy_ensemble.py:297\u001b[0m, in \u001b[0;36mEasyEnsembleClassifier.fit\u001b[1;34m(self, X, y)\u001b[0m\n\u001b[0;32m    295\u001b[0m \u001b[38;5;28mself\u001b[39m\u001b[38;5;241m.\u001b[39m_validate_params()\n\u001b[0;32m    296\u001b[0m \u001b[38;5;66;03m# overwrite the base class method by disallowing `sample_weight`\u001b[39;00m\n\u001b[1;32m--> 297\u001b[0m \u001b[38;5;28;01mreturn\u001b[39;00m \u001b[38;5;28;43msuper\u001b[39;49m\u001b[43m(\u001b[49m\u001b[43m)\u001b[49m\u001b[38;5;241;43m.\u001b[39;49m\u001b[43mfit\u001b[49m\u001b[43m(\u001b[49m\u001b[43mX\u001b[49m\u001b[43m,\u001b[49m\u001b[43m \u001b[49m\u001b[43my\u001b[49m\u001b[43m)\u001b[49m\n",
      "File \u001b[1;32mc:\\Users\\anike\\AppData\\Local\\Programs\\Python\\Python312\\Lib\\site-packages\\sklearn\\base.py:1474\u001b[0m, in \u001b[0;36m_fit_context.<locals>.decorator.<locals>.wrapper\u001b[1;34m(estimator, *args, **kwargs)\u001b[0m\n\u001b[0;32m   1467\u001b[0m     estimator\u001b[38;5;241m.\u001b[39m_validate_params()\n\u001b[0;32m   1469\u001b[0m \u001b[38;5;28;01mwith\u001b[39;00m config_context(\n\u001b[0;32m   1470\u001b[0m     skip_parameter_validation\u001b[38;5;241m=\u001b[39m(\n\u001b[0;32m   1471\u001b[0m         prefer_skip_nested_validation \u001b[38;5;129;01mor\u001b[39;00m global_skip_validation\n\u001b[0;32m   1472\u001b[0m     )\n\u001b[0;32m   1473\u001b[0m ):\n\u001b[1;32m-> 1474\u001b[0m     \u001b[38;5;28;01mreturn\u001b[39;00m \u001b[43mfit_method\u001b[49m\u001b[43m(\u001b[49m\u001b[43mestimator\u001b[49m\u001b[43m,\u001b[49m\u001b[43m \u001b[49m\u001b[38;5;241;43m*\u001b[39;49m\u001b[43margs\u001b[49m\u001b[43m,\u001b[49m\u001b[43m \u001b[49m\u001b[38;5;241;43m*\u001b[39;49m\u001b[38;5;241;43m*\u001b[39;49m\u001b[43mkwargs\u001b[49m\u001b[43m)\u001b[49m\n",
      "File \u001b[1;32mc:\\Users\\anike\\AppData\\Local\\Programs\\Python\\Python312\\Lib\\site-packages\\sklearn\\ensemble\\_bagging.py:334\u001b[0m, in \u001b[0;36mBaseBagging.fit\u001b[1;34m(self, X, y, sample_weight)\u001b[0m\n\u001b[0;32m    325\u001b[0m \u001b[38;5;66;03m# Convert data (X is required to be 2d and indexable)\u001b[39;00m\n\u001b[0;32m    326\u001b[0m X, y \u001b[38;5;241m=\u001b[39m \u001b[38;5;28mself\u001b[39m\u001b[38;5;241m.\u001b[39m_validate_data(\n\u001b[0;32m    327\u001b[0m     X,\n\u001b[0;32m    328\u001b[0m     y,\n\u001b[1;32m   (...)\u001b[0m\n\u001b[0;32m    332\u001b[0m     multi_output\u001b[38;5;241m=\u001b[39m\u001b[38;5;28;01mTrue\u001b[39;00m,\n\u001b[0;32m    333\u001b[0m )\n\u001b[1;32m--> 334\u001b[0m \u001b[38;5;28;01mreturn\u001b[39;00m \u001b[38;5;28;43mself\u001b[39;49m\u001b[38;5;241;43m.\u001b[39;49m\u001b[43m_fit\u001b[49m\u001b[43m(\u001b[49m\u001b[43mX\u001b[49m\u001b[43m,\u001b[49m\u001b[43m \u001b[49m\u001b[43my\u001b[49m\u001b[43m,\u001b[49m\u001b[43m \u001b[49m\u001b[38;5;28;43mself\u001b[39;49m\u001b[38;5;241;43m.\u001b[39;49m\u001b[43mmax_samples\u001b[49m\u001b[43m,\u001b[49m\u001b[43m \u001b[49m\u001b[43msample_weight\u001b[49m\u001b[38;5;241;43m=\u001b[39;49m\u001b[43msample_weight\u001b[49m\u001b[43m)\u001b[49m\n",
      "File \u001b[1;32mc:\\Users\\anike\\AppData\\Local\\Programs\\Python\\Python312\\Lib\\site-packages\\imblearn\\ensemble\\_easy_ensemble.py:303\u001b[0m, in \u001b[0;36mEasyEnsembleClassifier._fit\u001b[1;34m(self, X, y, max_samples, max_depth, sample_weight)\u001b[0m\n\u001b[0;32m    300\u001b[0m check_target_type(y)\n\u001b[0;32m    301\u001b[0m \u001b[38;5;66;03m# RandomUnderSampler is not supporting sample_weight. We need to pass\u001b[39;00m\n\u001b[0;32m    302\u001b[0m \u001b[38;5;66;03m# None.\u001b[39;00m\n\u001b[1;32m--> 303\u001b[0m \u001b[38;5;28;01mreturn\u001b[39;00m \u001b[38;5;28;43msuper\u001b[39;49m\u001b[43m(\u001b[49m\u001b[43m)\u001b[49m\u001b[38;5;241;43m.\u001b[39;49m\u001b[43m_fit\u001b[49m\u001b[43m(\u001b[49m\u001b[43mX\u001b[49m\u001b[43m,\u001b[49m\u001b[43m \u001b[49m\u001b[43my\u001b[49m\u001b[43m,\u001b[49m\u001b[43m \u001b[49m\u001b[38;5;28;43mself\u001b[39;49m\u001b[38;5;241;43m.\u001b[39;49m\u001b[43mmax_samples\u001b[49m\u001b[43m)\u001b[49m\n",
      "File \u001b[1;32mc:\\Users\\anike\\AppData\\Local\\Programs\\Python\\Python312\\Lib\\site-packages\\sklearn\\ensemble\\_bagging.py:469\u001b[0m, in \u001b[0;36mBaseBagging._fit\u001b[1;34m(self, X, y, max_samples, max_depth, sample_weight, check_input)\u001b[0m\n\u001b[0;32m    466\u001b[0m seeds \u001b[38;5;241m=\u001b[39m random_state\u001b[38;5;241m.\u001b[39mrandint(MAX_INT, size\u001b[38;5;241m=\u001b[39mn_more_estimators)\n\u001b[0;32m    467\u001b[0m \u001b[38;5;28mself\u001b[39m\u001b[38;5;241m.\u001b[39m_seeds \u001b[38;5;241m=\u001b[39m seeds\n\u001b[1;32m--> 469\u001b[0m all_results \u001b[38;5;241m=\u001b[39m \u001b[43mParallel\u001b[49m\u001b[43m(\u001b[49m\n\u001b[0;32m    470\u001b[0m \u001b[43m    \u001b[49m\u001b[43mn_jobs\u001b[49m\u001b[38;5;241;43m=\u001b[39;49m\u001b[43mn_jobs\u001b[49m\u001b[43m,\u001b[49m\u001b[43m \u001b[49m\u001b[43mverbose\u001b[49m\u001b[38;5;241;43m=\u001b[39;49m\u001b[38;5;28;43mself\u001b[39;49m\u001b[38;5;241;43m.\u001b[39;49m\u001b[43mverbose\u001b[49m\u001b[43m,\u001b[49m\u001b[43m \u001b[49m\u001b[38;5;241;43m*\u001b[39;49m\u001b[38;5;241;43m*\u001b[39;49m\u001b[38;5;28;43mself\u001b[39;49m\u001b[38;5;241;43m.\u001b[39;49m\u001b[43m_parallel_args\u001b[49m\u001b[43m(\u001b[49m\u001b[43m)\u001b[49m\n\u001b[0;32m    471\u001b[0m \u001b[43m\u001b[49m\u001b[43m)\u001b[49m\u001b[43m(\u001b[49m\n\u001b[0;32m    472\u001b[0m \u001b[43m    \u001b[49m\u001b[43mdelayed\u001b[49m\u001b[43m(\u001b[49m\u001b[43m_parallel_build_estimators\u001b[49m\u001b[43m)\u001b[49m\u001b[43m(\u001b[49m\n\u001b[0;32m    473\u001b[0m \u001b[43m        \u001b[49m\u001b[43mn_estimators\u001b[49m\u001b[43m[\u001b[49m\u001b[43mi\u001b[49m\u001b[43m]\u001b[49m\u001b[43m,\u001b[49m\n\u001b[0;32m    474\u001b[0m \u001b[43m        \u001b[49m\u001b[38;5;28;43mself\u001b[39;49m\u001b[43m,\u001b[49m\n\u001b[0;32m    475\u001b[0m \u001b[43m        \u001b[49m\u001b[43mX\u001b[49m\u001b[43m,\u001b[49m\n\u001b[0;32m    476\u001b[0m \u001b[43m        \u001b[49m\u001b[43my\u001b[49m\u001b[43m,\u001b[49m\n\u001b[0;32m    477\u001b[0m \u001b[43m        \u001b[49m\u001b[43msample_weight\u001b[49m\u001b[43m,\u001b[49m\n\u001b[0;32m    478\u001b[0m \u001b[43m        \u001b[49m\u001b[43mseeds\u001b[49m\u001b[43m[\u001b[49m\u001b[43mstarts\u001b[49m\u001b[43m[\u001b[49m\u001b[43mi\u001b[49m\u001b[43m]\u001b[49m\u001b[43m \u001b[49m\u001b[43m:\u001b[49m\u001b[43m \u001b[49m\u001b[43mstarts\u001b[49m\u001b[43m[\u001b[49m\u001b[43mi\u001b[49m\u001b[43m \u001b[49m\u001b[38;5;241;43m+\u001b[39;49m\u001b[43m \u001b[49m\u001b[38;5;241;43m1\u001b[39;49m\u001b[43m]\u001b[49m\u001b[43m]\u001b[49m\u001b[43m,\u001b[49m\n\u001b[0;32m    479\u001b[0m \u001b[43m        \u001b[49m\u001b[43mtotal_n_estimators\u001b[49m\u001b[43m,\u001b[49m\n\u001b[0;32m    480\u001b[0m \u001b[43m        \u001b[49m\u001b[43mverbose\u001b[49m\u001b[38;5;241;43m=\u001b[39;49m\u001b[38;5;28;43mself\u001b[39;49m\u001b[38;5;241;43m.\u001b[39;49m\u001b[43mverbose\u001b[49m\u001b[43m,\u001b[49m\n\u001b[0;32m    481\u001b[0m \u001b[43m        \u001b[49m\u001b[43mcheck_input\u001b[49m\u001b[38;5;241;43m=\u001b[39;49m\u001b[43mcheck_input\u001b[49m\u001b[43m,\u001b[49m\n\u001b[0;32m    482\u001b[0m \u001b[43m    \u001b[49m\u001b[43m)\u001b[49m\n\u001b[0;32m    483\u001b[0m \u001b[43m    \u001b[49m\u001b[38;5;28;43;01mfor\u001b[39;49;00m\u001b[43m \u001b[49m\u001b[43mi\u001b[49m\u001b[43m \u001b[49m\u001b[38;5;129;43;01min\u001b[39;49;00m\u001b[43m \u001b[49m\u001b[38;5;28;43mrange\u001b[39;49m\u001b[43m(\u001b[49m\u001b[43mn_jobs\u001b[49m\u001b[43m)\u001b[49m\n\u001b[0;32m    484\u001b[0m \u001b[43m\u001b[49m\u001b[43m)\u001b[49m\n\u001b[0;32m    486\u001b[0m \u001b[38;5;66;03m# Reduce\u001b[39;00m\n\u001b[0;32m    487\u001b[0m \u001b[38;5;28mself\u001b[39m\u001b[38;5;241m.\u001b[39mestimators_ \u001b[38;5;241m+\u001b[39m\u001b[38;5;241m=\u001b[39m \u001b[38;5;28mlist\u001b[39m(\n\u001b[0;32m    488\u001b[0m     itertools\u001b[38;5;241m.\u001b[39mchain\u001b[38;5;241m.\u001b[39mfrom_iterable(t[\u001b[38;5;241m0\u001b[39m] \u001b[38;5;28;01mfor\u001b[39;00m t \u001b[38;5;129;01min\u001b[39;00m all_results)\n\u001b[0;32m    489\u001b[0m )\n",
      "File \u001b[1;32mc:\\Users\\anike\\AppData\\Local\\Programs\\Python\\Python312\\Lib\\site-packages\\sklearn\\utils\\parallel.py:67\u001b[0m, in \u001b[0;36mParallel.__call__\u001b[1;34m(self, iterable)\u001b[0m\n\u001b[0;32m     62\u001b[0m config \u001b[38;5;241m=\u001b[39m get_config()\n\u001b[0;32m     63\u001b[0m iterable_with_config \u001b[38;5;241m=\u001b[39m (\n\u001b[0;32m     64\u001b[0m     (_with_config(delayed_func, config), args, kwargs)\n\u001b[0;32m     65\u001b[0m     \u001b[38;5;28;01mfor\u001b[39;00m delayed_func, args, kwargs \u001b[38;5;129;01min\u001b[39;00m iterable\n\u001b[0;32m     66\u001b[0m )\n\u001b[1;32m---> 67\u001b[0m \u001b[38;5;28;01mreturn\u001b[39;00m \u001b[38;5;28;43msuper\u001b[39;49m\u001b[43m(\u001b[49m\u001b[43m)\u001b[49m\u001b[38;5;241;43m.\u001b[39;49m\u001b[38;5;21;43m__call__\u001b[39;49m\u001b[43m(\u001b[49m\u001b[43miterable_with_config\u001b[49m\u001b[43m)\u001b[49m\n",
      "File \u001b[1;32mc:\\Users\\anike\\AppData\\Local\\Programs\\Python\\Python312\\Lib\\site-packages\\joblib\\parallel.py:1863\u001b[0m, in \u001b[0;36mParallel.__call__\u001b[1;34m(self, iterable)\u001b[0m\n\u001b[0;32m   1861\u001b[0m     output \u001b[38;5;241m=\u001b[39m \u001b[38;5;28mself\u001b[39m\u001b[38;5;241m.\u001b[39m_get_sequential_output(iterable)\n\u001b[0;32m   1862\u001b[0m     \u001b[38;5;28mnext\u001b[39m(output)\n\u001b[1;32m-> 1863\u001b[0m     \u001b[38;5;28;01mreturn\u001b[39;00m output \u001b[38;5;28;01mif\u001b[39;00m \u001b[38;5;28mself\u001b[39m\u001b[38;5;241m.\u001b[39mreturn_generator \u001b[38;5;28;01melse\u001b[39;00m \u001b[38;5;28;43mlist\u001b[39;49m\u001b[43m(\u001b[49m\u001b[43moutput\u001b[49m\u001b[43m)\u001b[49m\n\u001b[0;32m   1865\u001b[0m \u001b[38;5;66;03m# Let's create an ID that uniquely identifies the current call. If the\u001b[39;00m\n\u001b[0;32m   1866\u001b[0m \u001b[38;5;66;03m# call is interrupted early and that the same instance is immediately\u001b[39;00m\n\u001b[0;32m   1867\u001b[0m \u001b[38;5;66;03m# re-used, this id will be used to prevent workers that were\u001b[39;00m\n\u001b[0;32m   1868\u001b[0m \u001b[38;5;66;03m# concurrently finalizing a task from the previous call to run the\u001b[39;00m\n\u001b[0;32m   1869\u001b[0m \u001b[38;5;66;03m# callback.\u001b[39;00m\n\u001b[0;32m   1870\u001b[0m \u001b[38;5;28;01mwith\u001b[39;00m \u001b[38;5;28mself\u001b[39m\u001b[38;5;241m.\u001b[39m_lock:\n",
      "File \u001b[1;32mc:\\Users\\anike\\AppData\\Local\\Programs\\Python\\Python312\\Lib\\site-packages\\joblib\\parallel.py:1792\u001b[0m, in \u001b[0;36mParallel._get_sequential_output\u001b[1;34m(self, iterable)\u001b[0m\n\u001b[0;32m   1790\u001b[0m \u001b[38;5;28mself\u001b[39m\u001b[38;5;241m.\u001b[39mn_dispatched_batches \u001b[38;5;241m+\u001b[39m\u001b[38;5;241m=\u001b[39m \u001b[38;5;241m1\u001b[39m\n\u001b[0;32m   1791\u001b[0m \u001b[38;5;28mself\u001b[39m\u001b[38;5;241m.\u001b[39mn_dispatched_tasks \u001b[38;5;241m+\u001b[39m\u001b[38;5;241m=\u001b[39m \u001b[38;5;241m1\u001b[39m\n\u001b[1;32m-> 1792\u001b[0m res \u001b[38;5;241m=\u001b[39m \u001b[43mfunc\u001b[49m\u001b[43m(\u001b[49m\u001b[38;5;241;43m*\u001b[39;49m\u001b[43margs\u001b[49m\u001b[43m,\u001b[49m\u001b[43m \u001b[49m\u001b[38;5;241;43m*\u001b[39;49m\u001b[38;5;241;43m*\u001b[39;49m\u001b[43mkwargs\u001b[49m\u001b[43m)\u001b[49m\n\u001b[0;32m   1793\u001b[0m \u001b[38;5;28mself\u001b[39m\u001b[38;5;241m.\u001b[39mn_completed_tasks \u001b[38;5;241m+\u001b[39m\u001b[38;5;241m=\u001b[39m \u001b[38;5;241m1\u001b[39m\n\u001b[0;32m   1794\u001b[0m \u001b[38;5;28mself\u001b[39m\u001b[38;5;241m.\u001b[39mprint_progress()\n",
      "File \u001b[1;32mc:\\Users\\anike\\AppData\\Local\\Programs\\Python\\Python312\\Lib\\site-packages\\sklearn\\utils\\parallel.py:129\u001b[0m, in \u001b[0;36m_FuncWrapper.__call__\u001b[1;34m(self, *args, **kwargs)\u001b[0m\n\u001b[0;32m    127\u001b[0m     config \u001b[38;5;241m=\u001b[39m {}\n\u001b[0;32m    128\u001b[0m \u001b[38;5;28;01mwith\u001b[39;00m config_context(\u001b[38;5;241m*\u001b[39m\u001b[38;5;241m*\u001b[39mconfig):\n\u001b[1;32m--> 129\u001b[0m     \u001b[38;5;28;01mreturn\u001b[39;00m \u001b[38;5;28;43mself\u001b[39;49m\u001b[38;5;241;43m.\u001b[39;49m\u001b[43mfunction\u001b[49m\u001b[43m(\u001b[49m\u001b[38;5;241;43m*\u001b[39;49m\u001b[43margs\u001b[49m\u001b[43m,\u001b[49m\u001b[43m \u001b[49m\u001b[38;5;241;43m*\u001b[39;49m\u001b[38;5;241;43m*\u001b[39;49m\u001b[43mkwargs\u001b[49m\u001b[43m)\u001b[49m\n",
      "File \u001b[1;32mc:\\Users\\anike\\AppData\\Local\\Programs\\Python\\Python312\\Lib\\site-packages\\sklearn\\ensemble\\_bagging.py:148\u001b[0m, in \u001b[0;36m_parallel_build_estimators\u001b[1;34m(n_estimators, ensemble, X, y, sample_weight, seeds, total_n_estimators, verbose, check_input)\u001b[0m\n\u001b[0;32m    146\u001b[0m \u001b[38;5;28;01melse\u001b[39;00m:\n\u001b[0;32m    147\u001b[0m     X_ \u001b[38;5;241m=\u001b[39m X[indices][:, features] \u001b[38;5;28;01mif\u001b[39;00m requires_feature_indexing \u001b[38;5;28;01melse\u001b[39;00m X[indices]\n\u001b[1;32m--> 148\u001b[0m     \u001b[43mestimator_fit\u001b[49m\u001b[43m(\u001b[49m\u001b[43mX_\u001b[49m\u001b[43m,\u001b[49m\u001b[43m \u001b[49m\u001b[43my\u001b[49m\u001b[43m[\u001b[49m\u001b[43mindices\u001b[49m\u001b[43m]\u001b[49m\u001b[43m)\u001b[49m\n\u001b[0;32m    150\u001b[0m estimators\u001b[38;5;241m.\u001b[39mappend(estimator)\n\u001b[0;32m    151\u001b[0m estimators_features\u001b[38;5;241m.\u001b[39mappend(features)\n",
      "File \u001b[1;32mc:\\Users\\anike\\AppData\\Local\\Programs\\Python\\Python312\\Lib\\site-packages\\sklearn\\base.py:1474\u001b[0m, in \u001b[0;36m_fit_context.<locals>.decorator.<locals>.wrapper\u001b[1;34m(estimator, *args, **kwargs)\u001b[0m\n\u001b[0;32m   1467\u001b[0m     estimator\u001b[38;5;241m.\u001b[39m_validate_params()\n\u001b[0;32m   1469\u001b[0m \u001b[38;5;28;01mwith\u001b[39;00m config_context(\n\u001b[0;32m   1470\u001b[0m     skip_parameter_validation\u001b[38;5;241m=\u001b[39m(\n\u001b[0;32m   1471\u001b[0m         prefer_skip_nested_validation \u001b[38;5;129;01mor\u001b[39;00m global_skip_validation\n\u001b[0;32m   1472\u001b[0m     )\n\u001b[0;32m   1473\u001b[0m ):\n\u001b[1;32m-> 1474\u001b[0m     \u001b[38;5;28;01mreturn\u001b[39;00m \u001b[43mfit_method\u001b[49m\u001b[43m(\u001b[49m\u001b[43mestimator\u001b[49m\u001b[43m,\u001b[49m\u001b[43m \u001b[49m\u001b[38;5;241;43m*\u001b[39;49m\u001b[43margs\u001b[49m\u001b[43m,\u001b[49m\u001b[43m \u001b[49m\u001b[38;5;241;43m*\u001b[39;49m\u001b[38;5;241;43m*\u001b[39;49m\u001b[43mkwargs\u001b[49m\u001b[43m)\u001b[49m\n",
      "File \u001b[1;32mc:\\Users\\anike\\AppData\\Local\\Programs\\Python\\Python312\\Lib\\site-packages\\imblearn\\pipeline.py:333\u001b[0m, in \u001b[0;36mPipeline.fit\u001b[1;34m(self, X, y, **params)\u001b[0m\n\u001b[0;32m    331\u001b[0m     \u001b[38;5;28;01mif\u001b[39;00m \u001b[38;5;28mself\u001b[39m\u001b[38;5;241m.\u001b[39m_final_estimator \u001b[38;5;241m!=\u001b[39m \u001b[38;5;124m\"\u001b[39m\u001b[38;5;124mpassthrough\u001b[39m\u001b[38;5;124m\"\u001b[39m:\n\u001b[0;32m    332\u001b[0m         last_step_params \u001b[38;5;241m=\u001b[39m routed_params[\u001b[38;5;28mself\u001b[39m\u001b[38;5;241m.\u001b[39msteps[\u001b[38;5;241m-\u001b[39m\u001b[38;5;241m1\u001b[39m][\u001b[38;5;241m0\u001b[39m]]\n\u001b[1;32m--> 333\u001b[0m         \u001b[38;5;28;43mself\u001b[39;49m\u001b[38;5;241;43m.\u001b[39;49m\u001b[43m_final_estimator\u001b[49m\u001b[38;5;241;43m.\u001b[39;49m\u001b[43mfit\u001b[49m\u001b[43m(\u001b[49m\u001b[43mXt\u001b[49m\u001b[43m,\u001b[49m\u001b[43m \u001b[49m\u001b[43myt\u001b[49m\u001b[43m,\u001b[49m\u001b[43m \u001b[49m\u001b[38;5;241;43m*\u001b[39;49m\u001b[38;5;241;43m*\u001b[39;49m\u001b[43mlast_step_params\u001b[49m\u001b[43m[\u001b[49m\u001b[38;5;124;43m\"\u001b[39;49m\u001b[38;5;124;43mfit\u001b[39;49m\u001b[38;5;124;43m\"\u001b[39;49m\u001b[43m]\u001b[49m\u001b[43m)\u001b[49m\n\u001b[0;32m    334\u001b[0m \u001b[38;5;28;01mreturn\u001b[39;00m \u001b[38;5;28mself\u001b[39m\n",
      "File \u001b[1;32mc:\\Users\\anike\\AppData\\Local\\Programs\\Python\\Python312\\Lib\\site-packages\\sklearn\\base.py:1474\u001b[0m, in \u001b[0;36m_fit_context.<locals>.decorator.<locals>.wrapper\u001b[1;34m(estimator, *args, **kwargs)\u001b[0m\n\u001b[0;32m   1467\u001b[0m     estimator\u001b[38;5;241m.\u001b[39m_validate_params()\n\u001b[0;32m   1469\u001b[0m \u001b[38;5;28;01mwith\u001b[39;00m config_context(\n\u001b[0;32m   1470\u001b[0m     skip_parameter_validation\u001b[38;5;241m=\u001b[39m(\n\u001b[0;32m   1471\u001b[0m         prefer_skip_nested_validation \u001b[38;5;129;01mor\u001b[39;00m global_skip_validation\n\u001b[0;32m   1472\u001b[0m     )\n\u001b[0;32m   1473\u001b[0m ):\n\u001b[1;32m-> 1474\u001b[0m     \u001b[38;5;28;01mreturn\u001b[39;00m \u001b[43mfit_method\u001b[49m\u001b[43m(\u001b[49m\u001b[43mestimator\u001b[49m\u001b[43m,\u001b[49m\u001b[43m \u001b[49m\u001b[38;5;241;43m*\u001b[39;49m\u001b[43margs\u001b[49m\u001b[43m,\u001b[49m\u001b[43m \u001b[49m\u001b[38;5;241;43m*\u001b[39;49m\u001b[38;5;241;43m*\u001b[39;49m\u001b[43mkwargs\u001b[49m\u001b[43m)\u001b[49m\n",
      "File \u001b[1;32mc:\\Users\\anike\\AppData\\Local\\Programs\\Python\\Python312\\Lib\\site-packages\\sklearn\\ensemble\\_weight_boosting.py:169\u001b[0m, in \u001b[0;36mBaseWeightBoosting.fit\u001b[1;34m(self, X, y, sample_weight)\u001b[0m\n\u001b[0;32m    166\u001b[0m sample_weight[zero_weight_mask] \u001b[38;5;241m=\u001b[39m \u001b[38;5;241m0.0\u001b[39m\n\u001b[0;32m    168\u001b[0m \u001b[38;5;66;03m# Boosting step\u001b[39;00m\n\u001b[1;32m--> 169\u001b[0m sample_weight, estimator_weight, estimator_error \u001b[38;5;241m=\u001b[39m \u001b[38;5;28;43mself\u001b[39;49m\u001b[38;5;241;43m.\u001b[39;49m\u001b[43m_boost\u001b[49m\u001b[43m(\u001b[49m\n\u001b[0;32m    170\u001b[0m \u001b[43m    \u001b[49m\u001b[43miboost\u001b[49m\u001b[43m,\u001b[49m\u001b[43m \u001b[49m\u001b[43mX\u001b[49m\u001b[43m,\u001b[49m\u001b[43m \u001b[49m\u001b[43my\u001b[49m\u001b[43m,\u001b[49m\u001b[43m \u001b[49m\u001b[43msample_weight\u001b[49m\u001b[43m,\u001b[49m\u001b[43m \u001b[49m\u001b[43mrandom_state\u001b[49m\n\u001b[0;32m    171\u001b[0m \u001b[43m\u001b[49m\u001b[43m)\u001b[49m\n\u001b[0;32m    173\u001b[0m \u001b[38;5;66;03m# Early termination\u001b[39;00m\n\u001b[0;32m    174\u001b[0m \u001b[38;5;28;01mif\u001b[39;00m sample_weight \u001b[38;5;129;01mis\u001b[39;00m \u001b[38;5;28;01mNone\u001b[39;00m:\n",
      "File \u001b[1;32mc:\\Users\\anike\\AppData\\Local\\Programs\\Python\\Python312\\Lib\\site-packages\\sklearn\\ensemble\\_weight_boosting.py:589\u001b[0m, in \u001b[0;36mAdaBoostClassifier._boost\u001b[1;34m(self, iboost, X, y, sample_weight, random_state)\u001b[0m\n\u001b[0;32m    586\u001b[0m     \u001b[38;5;28;01mreturn\u001b[39;00m \u001b[38;5;28mself\u001b[39m\u001b[38;5;241m.\u001b[39m_boost_real(iboost, X, y, sample_weight, random_state)\n\u001b[0;32m    588\u001b[0m \u001b[38;5;28;01melse\u001b[39;00m:  \u001b[38;5;66;03m# elif self.algorithm == \"SAMME\":\u001b[39;00m\n\u001b[1;32m--> 589\u001b[0m     \u001b[38;5;28;01mreturn\u001b[39;00m \u001b[38;5;28;43mself\u001b[39;49m\u001b[38;5;241;43m.\u001b[39;49m\u001b[43m_boost_discrete\u001b[49m\u001b[43m(\u001b[49m\u001b[43miboost\u001b[49m\u001b[43m,\u001b[49m\u001b[43m \u001b[49m\u001b[43mX\u001b[49m\u001b[43m,\u001b[49m\u001b[43m \u001b[49m\u001b[43my\u001b[49m\u001b[43m,\u001b[49m\u001b[43m \u001b[49m\u001b[43msample_weight\u001b[49m\u001b[43m,\u001b[49m\u001b[43m \u001b[49m\u001b[43mrandom_state\u001b[49m\u001b[43m)\u001b[49m\n",
      "File \u001b[1;32mc:\\Users\\anike\\AppData\\Local\\Programs\\Python\\Python312\\Lib\\site-packages\\sklearn\\ensemble\\_weight_boosting.py:656\u001b[0m, in \u001b[0;36mAdaBoostClassifier._boost_discrete\u001b[1;34m(self, iboost, X, y, sample_weight, random_state)\u001b[0m\n\u001b[0;32m    653\u001b[0m \u001b[38;5;250m\u001b[39m\u001b[38;5;124;03m\"\"\"Implement a single boost using the SAMME discrete algorithm.\"\"\"\u001b[39;00m\n\u001b[0;32m    654\u001b[0m estimator \u001b[38;5;241m=\u001b[39m \u001b[38;5;28mself\u001b[39m\u001b[38;5;241m.\u001b[39m_make_estimator(random_state\u001b[38;5;241m=\u001b[39mrandom_state)\n\u001b[1;32m--> 656\u001b[0m \u001b[43mestimator\u001b[49m\u001b[38;5;241;43m.\u001b[39;49m\u001b[43mfit\u001b[49m\u001b[43m(\u001b[49m\u001b[43mX\u001b[49m\u001b[43m,\u001b[49m\u001b[43m \u001b[49m\u001b[43my\u001b[49m\u001b[43m,\u001b[49m\u001b[43m \u001b[49m\u001b[43msample_weight\u001b[49m\u001b[38;5;241;43m=\u001b[39;49m\u001b[43msample_weight\u001b[49m\u001b[43m)\u001b[49m\n\u001b[0;32m    658\u001b[0m y_predict \u001b[38;5;241m=\u001b[39m estimator\u001b[38;5;241m.\u001b[39mpredict(X)\n\u001b[0;32m    660\u001b[0m \u001b[38;5;28;01mif\u001b[39;00m iboost \u001b[38;5;241m==\u001b[39m \u001b[38;5;241m0\u001b[39m:\n",
      "File \u001b[1;32mc:\\Users\\anike\\AppData\\Local\\Programs\\Python\\Python312\\Lib\\site-packages\\sklearn\\base.py:1474\u001b[0m, in \u001b[0;36m_fit_context.<locals>.decorator.<locals>.wrapper\u001b[1;34m(estimator, *args, **kwargs)\u001b[0m\n\u001b[0;32m   1467\u001b[0m     estimator\u001b[38;5;241m.\u001b[39m_validate_params()\n\u001b[0;32m   1469\u001b[0m \u001b[38;5;28;01mwith\u001b[39;00m config_context(\n\u001b[0;32m   1470\u001b[0m     skip_parameter_validation\u001b[38;5;241m=\u001b[39m(\n\u001b[0;32m   1471\u001b[0m         prefer_skip_nested_validation \u001b[38;5;129;01mor\u001b[39;00m global_skip_validation\n\u001b[0;32m   1472\u001b[0m     )\n\u001b[0;32m   1473\u001b[0m ):\n\u001b[1;32m-> 1474\u001b[0m     \u001b[38;5;28;01mreturn\u001b[39;00m \u001b[43mfit_method\u001b[49m\u001b[43m(\u001b[49m\u001b[43mestimator\u001b[49m\u001b[43m,\u001b[49m\u001b[43m \u001b[49m\u001b[38;5;241;43m*\u001b[39;49m\u001b[43margs\u001b[49m\u001b[43m,\u001b[49m\u001b[43m \u001b[49m\u001b[38;5;241;43m*\u001b[39;49m\u001b[38;5;241;43m*\u001b[39;49m\u001b[43mkwargs\u001b[49m\u001b[43m)\u001b[49m\n",
      "File \u001b[1;32mc:\\Users\\anike\\AppData\\Local\\Programs\\Python\\Python312\\Lib\\site-packages\\sklearn\\tree\\_classes.py:1009\u001b[0m, in \u001b[0;36mDecisionTreeClassifier.fit\u001b[1;34m(self, X, y, sample_weight, check_input)\u001b[0m\n\u001b[0;32m    978\u001b[0m \u001b[38;5;129m@_fit_context\u001b[39m(prefer_skip_nested_validation\u001b[38;5;241m=\u001b[39m\u001b[38;5;28;01mTrue\u001b[39;00m)\n\u001b[0;32m    979\u001b[0m \u001b[38;5;28;01mdef\u001b[39;00m \u001b[38;5;21mfit\u001b[39m(\u001b[38;5;28mself\u001b[39m, X, y, sample_weight\u001b[38;5;241m=\u001b[39m\u001b[38;5;28;01mNone\u001b[39;00m, check_input\u001b[38;5;241m=\u001b[39m\u001b[38;5;28;01mTrue\u001b[39;00m):\n\u001b[0;32m    980\u001b[0m \u001b[38;5;250m    \u001b[39m\u001b[38;5;124;03m\"\"\"Build a decision tree classifier from the training set (X, y).\u001b[39;00m\n\u001b[0;32m    981\u001b[0m \n\u001b[0;32m    982\u001b[0m \u001b[38;5;124;03m    Parameters\u001b[39;00m\n\u001b[1;32m   (...)\u001b[0m\n\u001b[0;32m   1006\u001b[0m \u001b[38;5;124;03m        Fitted estimator.\u001b[39;00m\n\u001b[0;32m   1007\u001b[0m \u001b[38;5;124;03m    \"\"\"\u001b[39;00m\n\u001b[1;32m-> 1009\u001b[0m     \u001b[38;5;28;43msuper\u001b[39;49m\u001b[43m(\u001b[49m\u001b[43m)\u001b[49m\u001b[38;5;241;43m.\u001b[39;49m\u001b[43m_fit\u001b[49m\u001b[43m(\u001b[49m\n\u001b[0;32m   1010\u001b[0m \u001b[43m        \u001b[49m\u001b[43mX\u001b[49m\u001b[43m,\u001b[49m\n\u001b[0;32m   1011\u001b[0m \u001b[43m        \u001b[49m\u001b[43my\u001b[49m\u001b[43m,\u001b[49m\n\u001b[0;32m   1012\u001b[0m \u001b[43m        \u001b[49m\u001b[43msample_weight\u001b[49m\u001b[38;5;241;43m=\u001b[39;49m\u001b[43msample_weight\u001b[49m\u001b[43m,\u001b[49m\n\u001b[0;32m   1013\u001b[0m \u001b[43m        \u001b[49m\u001b[43mcheck_input\u001b[49m\u001b[38;5;241;43m=\u001b[39;49m\u001b[43mcheck_input\u001b[49m\u001b[43m,\u001b[49m\n\u001b[0;32m   1014\u001b[0m \u001b[43m    \u001b[49m\u001b[43m)\u001b[49m\n\u001b[0;32m   1015\u001b[0m     \u001b[38;5;28;01mreturn\u001b[39;00m \u001b[38;5;28mself\u001b[39m\n",
      "File \u001b[1;32mc:\\Users\\anike\\AppData\\Local\\Programs\\Python\\Python312\\Lib\\site-packages\\sklearn\\tree\\_classes.py:472\u001b[0m, in \u001b[0;36mBaseDecisionTree._fit\u001b[1;34m(self, X, y, sample_weight, check_input, missing_values_in_feature_mask)\u001b[0m\n\u001b[0;32m    461\u001b[0m \u001b[38;5;28;01melse\u001b[39;00m:\n\u001b[0;32m    462\u001b[0m     builder \u001b[38;5;241m=\u001b[39m BestFirstTreeBuilder(\n\u001b[0;32m    463\u001b[0m         splitter,\n\u001b[0;32m    464\u001b[0m         min_samples_split,\n\u001b[1;32m   (...)\u001b[0m\n\u001b[0;32m    469\u001b[0m         \u001b[38;5;28mself\u001b[39m\u001b[38;5;241m.\u001b[39mmin_impurity_decrease,\n\u001b[0;32m    470\u001b[0m     )\n\u001b[1;32m--> 472\u001b[0m \u001b[43mbuilder\u001b[49m\u001b[38;5;241;43m.\u001b[39;49m\u001b[43mbuild\u001b[49m\u001b[43m(\u001b[49m\u001b[38;5;28;43mself\u001b[39;49m\u001b[38;5;241;43m.\u001b[39;49m\u001b[43mtree_\u001b[49m\u001b[43m,\u001b[49m\u001b[43m \u001b[49m\u001b[43mX\u001b[49m\u001b[43m,\u001b[49m\u001b[43m \u001b[49m\u001b[43my\u001b[49m\u001b[43m,\u001b[49m\u001b[43m \u001b[49m\u001b[43msample_weight\u001b[49m\u001b[43m,\u001b[49m\u001b[43m \u001b[49m\u001b[43mmissing_values_in_feature_mask\u001b[49m\u001b[43m)\u001b[49m\n\u001b[0;32m    474\u001b[0m \u001b[38;5;28;01mif\u001b[39;00m \u001b[38;5;28mself\u001b[39m\u001b[38;5;241m.\u001b[39mn_outputs_ \u001b[38;5;241m==\u001b[39m \u001b[38;5;241m1\u001b[39m \u001b[38;5;129;01mand\u001b[39;00m is_classifier(\u001b[38;5;28mself\u001b[39m):\n\u001b[0;32m    475\u001b[0m     \u001b[38;5;28mself\u001b[39m\u001b[38;5;241m.\u001b[39mn_classes_ \u001b[38;5;241m=\u001b[39m \u001b[38;5;28mself\u001b[39m\u001b[38;5;241m.\u001b[39mn_classes_[\u001b[38;5;241m0\u001b[39m]\n",
      "\u001b[1;31mKeyboardInterrupt\u001b[0m: "
     ]
    }
   ],
   "source": [
    "# Apply Random Oversampling to the entire dataset\n",
    "oversampler = RandomOverSampler(sampling_strategy='minority', random_state=42)\n",
    "X_oversampled, y_oversampled = oversampler.fit_resample(X, y)\n",
    "\n",
    "# Apply Random Undersampling to the oversampled dataset\n",
    "undersampler = RandomUnderSampler(sampling_strategy='majority', random_state=42)\n",
    "X_resampled, y_resampled = undersampler.fit_resample(X_oversampled, y_oversampled)\n",
    "\n",
    "# Split the resampled data into training and testing sets\n",
    "X_train_resampled, X_test_resampled, y_train_resampled, y_test_resampled = train_test_split(X_resampled, y_resampled, test_size=0.2, random_state=42)\n",
    "\n",
    "# Initialize ensemble classifiers\n",
    "brf = BalancedRandomForestClassifier(n_estimators=100, random_state=42)\n",
    "eec = EasyEnsembleClassifier(n_estimators=100, random_state=42)\n",
    "\n",
    "# Train and evaluate Balanced Random Forest\n",
    "brf.fit(X_train_resampled, y_train_resampled)\n",
    "y_pred_brf = brf.predict(X_test_resampled)\n",
    "print(\"Balanced Random Forest Confusion Matrix:\")\n",
    "print(confusion_matrix(y_test_resampled, y_pred_brf))\n",
    "print(\"\\nBalanced Random Forest Classification Report:\")\n",
    "print(classification_report(y_test_resampled, y_pred_brf))\n",
    "\n",
    "# Train and evaluate Easy Ensemble Classifier\n",
    "eec.fit(X_train_resampled, y_train_resampled)\n",
    "y_pred_eec = eec.predict(X_test_resampled)\n",
    "print(\"Easy Ensemble Classifier Confusion Matrix:\")\n",
    "print(confusion_matrix(y_test_resampled, y_pred_eec))\n",
    "print(\"\\nEasy Ensemble Classifier Classification Report:\")\n",
    "print(classification_report(y_test_resampled, y_pred_eec))"
   ]
  }
 ],
 "metadata": {
  "kernelspec": {
   "display_name": "Python 3",
   "language": "python",
   "name": "python3"
  },
  "language_info": {
   "codemirror_mode": {
    "name": "ipython",
    "version": 3
   },
   "file_extension": ".py",
   "mimetype": "text/x-python",
   "name": "python",
   "nbconvert_exporter": "python",
   "pygments_lexer": "ipython3",
   "version": "3.12.1"
  }
 },
 "nbformat": 4,
 "nbformat_minor": 2
}
