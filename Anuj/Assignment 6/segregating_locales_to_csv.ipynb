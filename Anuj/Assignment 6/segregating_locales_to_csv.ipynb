{
 "cells": [
  {
   "cell_type": "code",
   "execution_count": 1,
   "metadata": {},
   "outputs": [],
   "source": [
    "import numpy as np\n",
    "import pandas as pd\n",
    "import matplotlib.pyplot as plt\n",
    "from datasets import load_dataset"
   ]
  },
  {
   "cell_type": "code",
   "execution_count": 2,
   "metadata": {},
   "outputs": [],
   "source": [
    "#Loading dataset\n",
    "dataset = load_dataset(\"qanastek/MASSIVE\",trust_remote_code=True)"
   ]
  },
  {
   "cell_type": "code",
   "execution_count": 3,
   "metadata": {},
   "outputs": [
    {
     "data": {
      "text/plain": [
       "27"
      ]
     },
     "execution_count": 3,
     "metadata": {},
     "output_type": "execute_result"
    }
   ],
   "source": [
    "# Maps for transformations\n",
    "locales = ['af-ZA', 'da-DK', 'de-DE', 'en-US', 'es-ES', 'fr-FR', 'fi-FI', 'hu-HU', 'is-IS', 'it-IT', 'jv-ID', 'lv-LV', 'ms-MY','nb-NO', 'nl-NL', 'pl-PL', 'pt-PT','ro-RO', 'ru-RU', 'sl-SL', 'sv-SE', 'sq-AL', 'sw-KE', 'tl-PH', 'tr-TR', 'vi-VN', 'cy-GB']\n",
    "keys = ['locale', 'partition', 'utt', 'tokens']\n",
    "len(locales)"
   ]
  },
  {
   "cell_type": "code",
   "execution_count": 4,
   "metadata": {},
   "outputs": [
    {
     "data": {
      "text/plain": [
       "'Above code block is commented because excuting it takes a lot of time so better not to run it.In case to validate fell free to uncomment it.'"
      ]
     },
     "execution_count": 4,
     "metadata": {},
     "output_type": "execute_result"
    }
   ],
   "source": [
    "'''Code block to create the given 27 csv files for each locale'''\n",
    "'''Above code block is commented because excuting it takes a lot of time so better not to run it.'''\\\n",
    "'''In case to validate fell free to uncomment it.'''\n",
    "# for locale in locales:\n",
    "#     data ={key : [] for key in keys}\n",
    "#     for partition_name in ['train','test','validation']:\n",
    "#         where_is_locale = np.where(np.array(dataset[partition_name][:]['locale'])==locale)\n",
    "#         for key in ['locale', 'utt', 'tokens']:\n",
    "#             data[key] = data[key] + [ dataset[partition_name][int(i)][key] for i in where_is_locale[0]]\n",
    "#         data['partition'] = data['partition'] + [partition_name for i in range(len(where_is_locale[0]))]\n",
    "#     data = pd.DataFrame(data)\n",
    "#     data.to_csv(locale+'.csv')"
   ]
  },
  {
   "cell_type": "code",
   "execution_count": 5,
   "metadata": {},
   "outputs": [],
   "source": [
    "'''This code is similar to as that above instead it just ceates csv file for locale af-ZA'''\n",
    "for locale in ['af-ZA']:\n",
    "    data ={key : [] for key in keys}\n",
    "    for partition_name in ['train','test','validation']:\n",
    "        where_is_locale = np.where(np.array(dataset[partition_name][:]['locale'])==locale)\n",
    "        for key in ['locale', 'utt', 'tokens']:\n",
    "            data[key] = data[key] + [ dataset[partition_name][int(i)][key] for i in where_is_locale[0]]\n",
    "        data['partition'] = data['partition'] + [partition_name for i in range(len(where_is_locale[0]))]\n",
    "    data = pd.DataFrame(data)\n",
    "    data.to_csv(locale+'.csv')"
   ]
  }
 ],
 "metadata": {
  "kernelspec": {
   "display_name": "Python 3",
   "language": "python",
   "name": "python3"
  },
  "language_info": {
   "codemirror_mode": {
    "name": "ipython",
    "version": 3
   },
   "file_extension": ".py",
   "mimetype": "text/x-python",
   "name": "python",
   "nbconvert_exporter": "python",
   "pygments_lexer": "ipython3",
   "version": "3.10.7"
  }
 },
 "nbformat": 4,
 "nbformat_minor": 2
}
