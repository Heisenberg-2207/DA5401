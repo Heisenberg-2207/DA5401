{
 "cells": [
  {
   "cell_type": "code",
   "execution_count": 157,
   "metadata": {},
   "outputs": [],
   "source": [
    "import numpy as np\n",
    "import pandas as pd\n",
    "import matplotlib.pyplot as plt\n",
    "from datasets import load_dataset"
   ]
  },
  {
   "cell_type": "code",
   "execution_count": 158,
   "metadata": {},
   "outputs": [],
   "source": [
    "dataset = load_dataset(\"qanastek/MASSIVE\",trust_remote_code=True)"
   ]
  },
  {
   "cell_type": "code",
   "execution_count": 159,
   "metadata": {},
   "outputs": [
    {
     "data": {
      "text/plain": [
       "27"
      ]
     },
     "execution_count": 159,
     "metadata": {},
     "output_type": "execute_result"
    }
   ],
   "source": [
    "locales = ['af-ZA', 'da-DK', 'de-DE', 'en-US', 'es-ES', 'fr-FR', 'fi-FI', 'hu-HU', 'is-IS', 'it-IT', 'jv-ID', 'lv-LV', 'ms-MY','nb-NO', 'nl-NL', 'pl-PL', 'pt-PT','ro-RO', 'ru-RU', 'sl-SL', 'sv-SE', 'sq-AL', 'sw-KE', 'tl-PH', 'tr-TR', 'vi-VN', 'cy-GB']\n",
    "keys = ['locale', 'partition', 'utt', 'tokens']\n",
    "len(locales)"
   ]
  },
  {
   "cell_type": "code",
   "execution_count": 160,
   "metadata": {},
   "outputs": [],
   "source": [
    "for locale in locales:\n",
    "    data ={key : [] for key in keys}\n",
    "    for partition_name in ['train','test','validation']:\n",
    "        where_is_locale = np.where(np.array(dataset[partition_name][:]['locale'])==locale)\n",
    "        for key in ['locale', 'utt', 'tokens']:\n",
    "            data[key] = data[key] + [ dataset[partition_name][int(i)][key] for i in where_is_locale[0]]\n",
    "        data['partition'] = data['partition'] + [partition_name for i in range(len(where_is_locale[0]))]\n",
    "    data = pd.DataFrame(data)\n",
    "    data.to_csv(locale+'.csv')"
   ]
  },
  {
   "cell_type": "code",
   "execution_count": 161,
   "metadata": {},
   "outputs": [
    {
     "data": {
      "text/plain": [
       "16521"
      ]
     },
     "execution_count": 161,
     "metadata": {},
     "output_type": "execute_result"
    }
   ],
   "source": [
    "np.array([dataset['train'][int(i)]['locale'] for i in where_is_locale[0]])\n",
    "len(data['partition'])"
   ]
  }
 ],
 "metadata": {
  "kernelspec": {
   "display_name": "Python 3",
   "language": "python",
   "name": "python3"
  },
  "language_info": {
   "codemirror_mode": {
    "name": "ipython",
    "version": 3
   },
   "file_extension": ".py",
   "mimetype": "text/x-python",
   "name": "python",
   "nbconvert_exporter": "python",
   "pygments_lexer": "ipython3",
   "version": "3.10.7"
  }
 },
 "nbformat": 4,
 "nbformat_minor": 2
}
